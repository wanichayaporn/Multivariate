{
  "nbformat": 4,
  "nbformat_minor": 0,
  "metadata": {
    "colab": {
      "name": "Chapter 5 Factor Analysis.ipynb",
      "provenance": [],
      "authorship_tag": "ABX9TyP8DNG+R71Go10KQuHroNAE",
      "include_colab_link": true
    },
    "kernelspec": {
      "name": "python3",
      "display_name": "Python 3"
    },
    "language_info": {
      "name": "python"
    }
  },
  "cells": [
    {
      "cell_type": "markdown",
      "metadata": {
        "id": "view-in-github",
        "colab_type": "text"
      },
      "source": [
        "<a href=\"https://colab.research.google.com/github/wanichayaporn/Multivariate/blob/main/Chapter_5_Factor_Analysis.ipynb\" target=\"_parent\"><img src=\"https://colab.research.google.com/assets/colab-badge.svg\" alt=\"Open In Colab\"/></a>"
      ]
    },
    {
      "cell_type": "markdown",
      "metadata": {
        "id": "ACFfUim0Ebww"
      },
      "source": [
        "https://www.datacamp.com/community/tutorials/introduction-factor-analysis\n",
        "\n",
        "Assumptions:\n",
        "\n"
      ]
    },
    {
      "cell_type": "code",
      "metadata": {
        "id": "0jrD_mSTDaE5"
      },
      "source": [
        "import pandas as pd"
      ],
      "execution_count": 16,
      "outputs": []
    },
    {
      "cell_type": "code",
      "metadata": {
        "colab": {
          "base_uri": "https://localhost:8080/",
          "height": 195
        },
        "id": "DJwLfmaBGZ5h",
        "outputId": "e81d4cd4-48cd-4f12-cd33-977490892093"
      },
      "source": [
        "BFI_data = pd.read_csv('bfi.csv')\n",
        "BFI_data.head()"
      ],
      "execution_count": 17,
      "outputs": [
        {
          "output_type": "execute_result",
          "data": {
            "text/html": [
              "<div>\n",
              "<style scoped>\n",
              "    .dataframe tbody tr th:only-of-type {\n",
              "        vertical-align: middle;\n",
              "    }\n",
              "\n",
              "    .dataframe tbody tr th {\n",
              "        vertical-align: top;\n",
              "    }\n",
              "\n",
              "    .dataframe thead th {\n",
              "        text-align: right;\n",
              "    }\n",
              "</style>\n",
              "<table border=\"1\" class=\"dataframe\">\n",
              "  <thead>\n",
              "    <tr style=\"text-align: right;\">\n",
              "      <th></th>\n",
              "      <th>Unnamed: 0</th>\n",
              "      <th>A1</th>\n",
              "      <th>A2</th>\n",
              "      <th>A3</th>\n",
              "      <th>A4</th>\n",
              "      <th>A5</th>\n",
              "      <th>C1</th>\n",
              "      <th>C2</th>\n",
              "      <th>C3</th>\n",
              "      <th>C4</th>\n",
              "      <th>C5</th>\n",
              "      <th>E1</th>\n",
              "      <th>E2</th>\n",
              "      <th>E3</th>\n",
              "      <th>E4</th>\n",
              "      <th>E5</th>\n",
              "      <th>N1</th>\n",
              "      <th>N2</th>\n",
              "      <th>N3</th>\n",
              "      <th>N4</th>\n",
              "      <th>N5</th>\n",
              "      <th>O1</th>\n",
              "      <th>O2</th>\n",
              "      <th>O3</th>\n",
              "      <th>O4</th>\n",
              "      <th>O5</th>\n",
              "      <th>gender</th>\n",
              "      <th>education</th>\n",
              "      <th>age</th>\n",
              "    </tr>\n",
              "  </thead>\n",
              "  <tbody>\n",
              "    <tr>\n",
              "      <th>0</th>\n",
              "      <td>61617</td>\n",
              "      <td>2.0</td>\n",
              "      <td>4.0</td>\n",
              "      <td>3.0</td>\n",
              "      <td>4.0</td>\n",
              "      <td>4.0</td>\n",
              "      <td>2.0</td>\n",
              "      <td>3.0</td>\n",
              "      <td>3.0</td>\n",
              "      <td>4.0</td>\n",
              "      <td>4.0</td>\n",
              "      <td>3.0</td>\n",
              "      <td>3.0</td>\n",
              "      <td>3.0</td>\n",
              "      <td>4.0</td>\n",
              "      <td>4.0</td>\n",
              "      <td>3.0</td>\n",
              "      <td>4.0</td>\n",
              "      <td>2.0</td>\n",
              "      <td>2.0</td>\n",
              "      <td>3.0</td>\n",
              "      <td>3.0</td>\n",
              "      <td>6</td>\n",
              "      <td>3.0</td>\n",
              "      <td>4.0</td>\n",
              "      <td>3.0</td>\n",
              "      <td>1</td>\n",
              "      <td>NaN</td>\n",
              "      <td>16</td>\n",
              "    </tr>\n",
              "    <tr>\n",
              "      <th>1</th>\n",
              "      <td>61618</td>\n",
              "      <td>2.0</td>\n",
              "      <td>4.0</td>\n",
              "      <td>5.0</td>\n",
              "      <td>2.0</td>\n",
              "      <td>5.0</td>\n",
              "      <td>5.0</td>\n",
              "      <td>4.0</td>\n",
              "      <td>4.0</td>\n",
              "      <td>3.0</td>\n",
              "      <td>4.0</td>\n",
              "      <td>1.0</td>\n",
              "      <td>1.0</td>\n",
              "      <td>6.0</td>\n",
              "      <td>4.0</td>\n",
              "      <td>3.0</td>\n",
              "      <td>3.0</td>\n",
              "      <td>3.0</td>\n",
              "      <td>3.0</td>\n",
              "      <td>5.0</td>\n",
              "      <td>5.0</td>\n",
              "      <td>4.0</td>\n",
              "      <td>2</td>\n",
              "      <td>4.0</td>\n",
              "      <td>3.0</td>\n",
              "      <td>3.0</td>\n",
              "      <td>2</td>\n",
              "      <td>NaN</td>\n",
              "      <td>18</td>\n",
              "    </tr>\n",
              "    <tr>\n",
              "      <th>2</th>\n",
              "      <td>61620</td>\n",
              "      <td>5.0</td>\n",
              "      <td>4.0</td>\n",
              "      <td>5.0</td>\n",
              "      <td>4.0</td>\n",
              "      <td>4.0</td>\n",
              "      <td>4.0</td>\n",
              "      <td>5.0</td>\n",
              "      <td>4.0</td>\n",
              "      <td>2.0</td>\n",
              "      <td>5.0</td>\n",
              "      <td>2.0</td>\n",
              "      <td>4.0</td>\n",
              "      <td>4.0</td>\n",
              "      <td>4.0</td>\n",
              "      <td>5.0</td>\n",
              "      <td>4.0</td>\n",
              "      <td>5.0</td>\n",
              "      <td>4.0</td>\n",
              "      <td>2.0</td>\n",
              "      <td>3.0</td>\n",
              "      <td>4.0</td>\n",
              "      <td>2</td>\n",
              "      <td>5.0</td>\n",
              "      <td>5.0</td>\n",
              "      <td>2.0</td>\n",
              "      <td>2</td>\n",
              "      <td>NaN</td>\n",
              "      <td>17</td>\n",
              "    </tr>\n",
              "    <tr>\n",
              "      <th>3</th>\n",
              "      <td>61621</td>\n",
              "      <td>4.0</td>\n",
              "      <td>4.0</td>\n",
              "      <td>6.0</td>\n",
              "      <td>5.0</td>\n",
              "      <td>5.0</td>\n",
              "      <td>4.0</td>\n",
              "      <td>4.0</td>\n",
              "      <td>3.0</td>\n",
              "      <td>5.0</td>\n",
              "      <td>5.0</td>\n",
              "      <td>5.0</td>\n",
              "      <td>3.0</td>\n",
              "      <td>4.0</td>\n",
              "      <td>4.0</td>\n",
              "      <td>4.0</td>\n",
              "      <td>2.0</td>\n",
              "      <td>5.0</td>\n",
              "      <td>2.0</td>\n",
              "      <td>4.0</td>\n",
              "      <td>1.0</td>\n",
              "      <td>3.0</td>\n",
              "      <td>3</td>\n",
              "      <td>4.0</td>\n",
              "      <td>3.0</td>\n",
              "      <td>5.0</td>\n",
              "      <td>2</td>\n",
              "      <td>NaN</td>\n",
              "      <td>17</td>\n",
              "    </tr>\n",
              "    <tr>\n",
              "      <th>4</th>\n",
              "      <td>61622</td>\n",
              "      <td>2.0</td>\n",
              "      <td>3.0</td>\n",
              "      <td>3.0</td>\n",
              "      <td>4.0</td>\n",
              "      <td>5.0</td>\n",
              "      <td>4.0</td>\n",
              "      <td>4.0</td>\n",
              "      <td>5.0</td>\n",
              "      <td>3.0</td>\n",
              "      <td>2.0</td>\n",
              "      <td>2.0</td>\n",
              "      <td>2.0</td>\n",
              "      <td>5.0</td>\n",
              "      <td>4.0</td>\n",
              "      <td>5.0</td>\n",
              "      <td>2.0</td>\n",
              "      <td>3.0</td>\n",
              "      <td>4.0</td>\n",
              "      <td>4.0</td>\n",
              "      <td>3.0</td>\n",
              "      <td>3.0</td>\n",
              "      <td>3</td>\n",
              "      <td>4.0</td>\n",
              "      <td>3.0</td>\n",
              "      <td>3.0</td>\n",
              "      <td>1</td>\n",
              "      <td>NaN</td>\n",
              "      <td>17</td>\n",
              "    </tr>\n",
              "  </tbody>\n",
              "</table>\n",
              "</div>"
            ],
            "text/plain": [
              "   Unnamed: 0   A1   A2   A3   A4   A5  ...   O3   O4   O5  gender  education  age\n",
              "0       61617  2.0  4.0  3.0  4.0  4.0  ...  3.0  4.0  3.0       1        NaN   16\n",
              "1       61618  2.0  4.0  5.0  2.0  5.0  ...  4.0  3.0  3.0       2        NaN   18\n",
              "2       61620  5.0  4.0  5.0  4.0  4.0  ...  5.0  5.0  2.0       2        NaN   17\n",
              "3       61621  4.0  4.0  6.0  5.0  5.0  ...  4.0  3.0  5.0       2        NaN   17\n",
              "4       61622  2.0  3.0  3.0  4.0  5.0  ...  4.0  3.0  3.0       1        NaN   17\n",
              "\n",
              "[5 rows x 29 columns]"
            ]
          },
          "metadata": {
            "tags": []
          },
          "execution_count": 17
        }
      ]
    },
    {
      "cell_type": "markdown",
      "metadata": {
        "id": "Qomts6AfHoa4"
      },
      "source": [
        "##Factor Analysis '\n",
        "##Assumptions:\n",
        "\n",
        "ในข้อมูล multivariate ที่มีตัวแปร odserve variables จำนวน n ตัว \n",
        "\n",
        "มีตัวแปร Factor (Latent Variables) จำนวน k ตัว ที่สามารถอธิบายข้อมูลทั้งหมดได้ \n",
        "โดย k < n"
      ]
    },
    {
      "cell_type": "markdown",
      "metadata": {
        "id": "vDjZYWgNK5sA"
      },
      "source": [
        "Assumptions ในการทำ Factor Analysis :\n",
        "\n",
        "* There are no outliers in data.\n",
        "* Sample size should be greater than the factor.\n",
        "* There should not be perfect ***multicollinearity***.\n",
        "* There should not be ***homoscedasticity*** between the variables."
      ]
    },
    {
      "cell_type": "markdown",
      "metadata": {
        "id": "KdUQsiHiO4B-"
      },
      "source": [
        "##การทำ Factor Analysis"
      ]
    },
    {
      "cell_type": "markdown",
      "metadata": {
        "id": "Z9EBhGt_6Rwq"
      },
      "source": [
        "##Import"
      ]
    },
    {
      "cell_type": "code",
      "metadata": {
        "id": "4g_CDIx76UMd"
      },
      "source": [
        "from factor_analyzer import FactorAnalyzer"
      ],
      "execution_count": 27,
      "outputs": []
    },
    {
      "cell_type": "markdown",
      "metadata": {
        "id": "rzrw5Rze6YH2"
      },
      "source": [
        "##Define"
      ]
    },
    {
      "cell_type": "code",
      "metadata": {
        "id": "7tnE6xKp6am1"
      },
      "source": [
        "fa = FactorAnalyzer(n_factors=20)"
      ],
      "execution_count": 26,
      "outputs": []
    },
    {
      "cell_type": "markdown",
      "metadata": {
        "id": "33LPpJJx8hIZ"
      },
      "source": [
        "##Fit - Transform"
      ]
    },
    {
      "cell_type": "code",
      "metadata": {
        "id": "yVCxsrcL8wZ2"
      },
      "source": [
        "data_fa =fa.fit_transform(BFI_data_dropped)"
      ],
      "execution_count": 28,
      "outputs": []
    },
    {
      "cell_type": "code",
      "metadata": {
        "id": "RsnScKSU89S9",
        "colab": {
          "base_uri": "https://localhost:8080/"
        },
        "outputId": "b9608edc-b91b-4781-ac3f-5d02b80d3021"
      },
      "source": [
        "data_fa.shape"
      ],
      "execution_count": 29,
      "outputs": [
        {
          "output_type": "execute_result",
          "data": {
            "text/plain": [
              "(2436, 20)"
            ]
          },
          "metadata": {
            "tags": []
          },
          "execution_count": 29
        }
      ]
    },
    {
      "cell_type": "markdown",
      "metadata": {
        "id": "jBowVw9j-i6_"
      },
      "source": [
        "##วิธีตัดสินว่าเราจะเหลือกี่ dimention (มี fectors ทั้งหมดกี่ตัว)"
      ]
    },
    {
      "cell_type": "code",
      "metadata": {
        "id": "WLPJooKK9XI-"
      },
      "source": [
        "ev,v = fa.get_eigenvalues()"
      ],
      "execution_count": 30,
      "outputs": []
    },
    {
      "cell_type": "markdown",
      "metadata": {
        "id": "cIpFXqTa-xgN"
      },
      "source": [
        "###ใช้ eigen values"
      ]
    },
    {
      "cell_type": "code",
      "metadata": {
        "id": "ZHVzcKmH9swO",
        "colab": {
          "base_uri": "https://localhost:8080/"
        },
        "outputId": "7fc854b5-5f8b-466b-f1e9-c902d4d53b76"
      },
      "source": [
        "ev"
      ],
      "execution_count": 31,
      "outputs": [
        {
          "output_type": "execute_result",
          "data": {
            "text/plain": [
              "array([5.13431118, 2.75188667, 2.14270195, 1.85232761, 1.54816285,\n",
              "       1.07358247, 0.83953893, 0.79920618, 0.71898919, 0.68808879,\n",
              "       0.67637336, 0.65179984, 0.62325295, 0.59656284, 0.56309083,\n",
              "       0.54330533, 0.51451752, 0.49450315, 0.48263952, 0.448921  ,\n",
              "       0.42336611, 0.40067145, 0.38780448, 0.38185679, 0.26253902])"
            ]
          },
          "metadata": {
            "tags": []
          },
          "execution_count": 31
        }
      ]
    },
    {
      "cell_type": "markdown",
      "metadata": {
        "id": "cstUV4MA_BTt"
      },
      "source": [
        "##Scree Plot"
      ]
    },
    {
      "cell_type": "code",
      "metadata": {
        "id": "wdnBRE9v_M9X",
        "colab": {
          "base_uri": "https://localhost:8080/",
          "height": 295
        },
        "outputId": "92ccd417-0abc-4dcd-cbd6-87561845786f"
      },
      "source": [
        "plt.scatter(range(1,BFI_data_dropped.shape[1]+1),ev)\n",
        "plt.plot(range(1,BFI_data_dropped.shape[1]+1),ev)\n",
        "plt.title('Scree Plot')\n",
        "plt.xlabel('Factors')\n",
        "plt.ylabel('Eigenvalue')\n",
        "plt.grid()\n",
        "plt.show()"
      ],
      "execution_count": 32,
      "outputs": [
        {
          "output_type": "display_data",
          "data": {
            "image/png": "[encoded data removed]",
            "text/plain": [
              "<Figure size 432x288 with 1 Axes>"
            ]
          },
          "metadata": {
            "tags": [],
            "needs_background": "light"
          }
        }
      ]
    },
    {
      "cell_type": "code",
      "metadata": {
        "id": "tAeNx3NR_2sl",
        "colab": {
          "base_uri": "https://localhost:8080/",
          "height": 295
        },
        "outputId": "e434be94-5a85-4563-e789-be145d1d9961"
      },
      "source": [
        "plt.plot(range(1,BFI_data_dropped.shape[1]+1),ev,'bo--')\n",
        "plt.plot([0,BFI_data_dropped.shape[1]+1],[1,1], 'r--')\n",
        "plt.title('Scree Plot')\n",
        "plt.xlabel('Factors')\n",
        "plt.ylabel('Eigenvalue')\n",
        "plt.grid()\n",
        "plt.show()"
      ],
      "execution_count": 33,
      "outputs": [
        {
          "output_type": "display_data",
          "data": {
            "image/png": "[encoded data removed]",
            "text/plain": [
              "<Figure size 432x288 with 1 Axes>"
            ]
          },
          "metadata": {
            "tags": [],
            "needs_background": "light"
          }
        }
      ]
    },
    {
      "cell_type": "code",
      "metadata": {
        "id": "8K-j6ELbCCg2",
        "colab": {
          "base_uri": "https://localhost:8080/"
        },
        "outputId": "d0dafde0-71c8-43ab-87c9-d960a5ff7af6"
      },
      "source": [
        "data_fa[:,:6]"
      ],
      "execution_count": 34,
      "outputs": [
        {
          "output_type": "execute_result",
          "data": {
            "text/plain": [
              "array([[-0.89749661, -0.12809666, -1.22649076,  1.08665889,  0.42476701,\n",
              "         0.03981611],\n",
              "       [ 0.33679356, -0.15018138, -0.04332274, -0.10339328,  0.29665648,\n",
              "        -1.11019718],\n",
              "       [-0.24521029,  0.80409961,  0.39343377, -0.30106518,  0.82703928,\n",
              "        -0.2982022 ],\n",
              "       ...,\n",
              "       [ 0.38724631, -0.02183587,  1.19616826, -1.19357208,  0.79669501,\n",
              "        -0.95295109],\n",
              "       [-0.75695976,  0.94984758,  1.24363484, -1.15230215,  2.2534133 ,\n",
              "        -1.0218667 ],\n",
              "       [-2.35583952, -1.49829856,  0.49436981, -1.64734311,  0.94742323,\n",
              "         0.43462495]])"
            ]
          },
          "metadata": {
            "tags": []
          },
          "execution_count": 34
        }
      ]
    },
    {
      "cell_type": "markdown",
      "metadata": {
        "id": "hQhVYym6Cczg"
      },
      "source": [
        "##Factor loading"
      ]
    },
    {
      "cell_type": "code",
      "metadata": {
        "id": "tI7GMBrZChRN",
        "colab": {
          "base_uri": "https://localhost:8080/"
        },
        "outputId": "ce1a8d8a-140e-46f4-cc94-7bb7fff4775e"
      },
      "source": [
        "fa.loadings_.shape"
      ],
      "execution_count": 35,
      "outputs": [
        {
          "output_type": "execute_result",
          "data": {
            "text/plain": [
              "(25, 20)"
            ]
          },
          "metadata": {
            "tags": []
          },
          "execution_count": 35
        }
      ]
    },
    {
      "cell_type": "markdown",
      "metadata": {
        "id": "w2uIpUXrP9Sf"
      },
      "source": [
        "เเก้ error ModuleFoundtionError : No module named 'factor_analyzer' โดย"
      ]
    },
    {
      "cell_type": "markdown",
      "metadata": {
        "id": "uAKSvOSwQPKe"
      },
      "source": [
        "วิธี install Factor อื่นๆ"
      ]
    },
    {
      "cell_type": "code",
      "metadata": {
        "id": "PkQWXeulG-Ov",
        "colab": {
          "base_uri": "https://localhost:8080/"
        },
        "outputId": "417fa69c-d1c7-41eb-b682-845b891a1fb8"
      },
      "source": [
        "!pip install factor_analyzer #ถ้าเกิดเราใช้ libary ที่ไม่ได้มีคนใช้บ่อย เราจะต้องทำการติดตั้งเอง"
      ],
      "execution_count": 21,
      "outputs": [
        {
          "output_type": "stream",
          "text": [
            "Collecting factor_analyzer\n",
            "\u001b[?25l  Downloading https://files.pythonhosted.org/packages/44/b5/cbd83484ca6dd4c6562c6d66a6a3a0ecf526e79b2b575b9fb4bf5ad172dd/factor_analyzer-0.3.2.tar.gz (40kB)\n",
            "\r\u001b[K     |████████▏                       | 10kB 14.5MB/s eta 0:00:01\r\u001b[K     |████████████████▍               | 20kB 19.6MB/s eta 0:00:01\r\u001b[K     |████████████████████████▌       | 30kB 23.3MB/s eta 0:00:01\r\u001b[K     |████████████████████████████████| 40kB 3.4MB/s \n",
            "\u001b[?25hRequirement already satisfied: pandas in /usr/local/lib/python3.7/dist-packages (from factor_analyzer) (1.1.5)\n",
            "Requirement already satisfied: scipy in /usr/local/lib/python3.7/dist-packages (from factor_analyzer) (1.4.1)\n",
            "Requirement already satisfied: numpy in /usr/local/lib/python3.7/dist-packages (from factor_analyzer) (1.19.5)\n",
            "Requirement already satisfied: scikit-learn in /usr/local/lib/python3.7/dist-packages (from factor_analyzer) (0.22.2.post1)\n",
            "Requirement already satisfied: python-dateutil>=2.7.3 in /usr/local/lib/python3.7/dist-packages (from pandas->factor_analyzer) (2.8.1)\n",
            "Requirement already satisfied: pytz>=2017.2 in /usr/local/lib/python3.7/dist-packages (from pandas->factor_analyzer) (2018.9)\n",
            "Requirement already satisfied: joblib>=0.11 in /usr/local/lib/python3.7/dist-packages (from scikit-learn->factor_analyzer) (1.0.1)\n",
            "Requirement already satisfied: six>=1.5 in /usr/local/lib/python3.7/dist-packages (from python-dateutil>=2.7.3->pandas->factor_analyzer) (1.15.0)\n",
            "Building wheels for collected packages: factor-analyzer\n",
            "  Building wheel for factor-analyzer (setup.py) ... \u001b[?25l\u001b[?25hdone\n",
            "  Created wheel for factor-analyzer: filename=factor_analyzer-0.3.2-cp37-none-any.whl size=40383 sha256=dd178d91ec4146a82560973322d0dd66b8dfae5f1f61c2ed5e408cffb7e3ef40\n",
            "  Stored in directory: /root/.cache/pip/wheels/4a/d0/57/f1330cb9c80e82d8d05391c74c94ed61ce3f03bf6157f3d6db\n",
            "Successfully built factor-analyzer\n",
            "Installing collected packages: factor-analyzer\n",
            "Successfully installed factor-analyzer-0.3.2\n"
          ],
          "name": "stdout"
        }
      ]
    },
    {
      "cell_type": "code",
      "metadata": {
        "id": "4jZ3m4G3G-Lh"
      },
      "source": [
        "from factor_analyzer import FactorAnalyzer\n",
        "import matplotlib.pyplot as plt"
      ],
      "execution_count": 22,
      "outputs": []
    },
    {
      "cell_type": "markdown",
      "metadata": {
        "id": "toEFrxkOTR6o"
      },
      "source": [
        "##Quiz5 เลือกข้อมูลมาเฉพาะ a1,a2,a3,...,o3,o4,o5 ด้วยคำสั่ง .loc[]"
      ]
    },
    {
      "cell_type": "code",
      "metadata": {
        "colab": {
          "base_uri": "https://localhost:8080/",
          "height": 402
        },
        "id": "Mx-aGR8UTtvw",
        "outputId": "21d062c2-f2f7-4e55-e286-957fdd1de7e9"
      },
      "source": [
        "BFI_data_dropped = BFI_data.iloc[:,1:-3]\n",
        "BFI_data_dropped"
      ],
      "execution_count": 36,
      "outputs": [
        {
          "output_type": "execute_result",
          "data": {
            "text/html": [
              "<div>\n",
              "<style scoped>\n",
              "    .dataframe tbody tr th:only-of-type {\n",
              "        vertical-align: middle;\n",
              "    }\n",
              "\n",
              "    .dataframe tbody tr th {\n",
              "        vertical-align: top;\n",
              "    }\n",
              "\n",
              "    .dataframe thead th {\n",
              "        text-align: right;\n",
              "    }\n",
              "</style>\n",
              "<table border=\"1\" class=\"dataframe\">\n",
              "  <thead>\n",
              "    <tr style=\"text-align: right;\">\n",
              "      <th></th>\n",
              "      <th>A1</th>\n",
              "      <th>A2</th>\n",
              "      <th>A3</th>\n",
              "      <th>A4</th>\n",
              "      <th>A5</th>\n",
              "      <th>C1</th>\n",
              "      <th>C2</th>\n",
              "      <th>C3</th>\n",
              "      <th>C4</th>\n",
              "      <th>C5</th>\n",
              "      <th>E1</th>\n",
              "      <th>E2</th>\n",
              "      <th>E3</th>\n",
              "      <th>E4</th>\n",
              "      <th>E5</th>\n",
              "      <th>N1</th>\n",
              "      <th>N2</th>\n",
              "      <th>N3</th>\n",
              "      <th>N4</th>\n",
              "      <th>N5</th>\n",
              "      <th>O1</th>\n",
              "      <th>O2</th>\n",
              "      <th>O3</th>\n",
              "      <th>O4</th>\n",
              "      <th>O5</th>\n",
              "    </tr>\n",
              "  </thead>\n",
              "  <tbody>\n",
              "    <tr>\n",
              "      <th>0</th>\n",
              "      <td>2.0</td>\n",
              "      <td>4.0</td>\n",
              "      <td>3.0</td>\n",
              "      <td>4.0</td>\n",
              "      <td>4.0</td>\n",
              "      <td>2.0</td>\n",
              "      <td>3.0</td>\n",
              "      <td>3.0</td>\n",
              "      <td>4.0</td>\n",
              "      <td>4.0</td>\n",
              "      <td>3.0</td>\n",
              "      <td>3.0</td>\n",
              "      <td>3.0</td>\n",
              "      <td>4.0</td>\n",
              "      <td>4.0</td>\n",
              "      <td>3.0</td>\n",
              "      <td>4.0</td>\n",
              "      <td>2.0</td>\n",
              "      <td>2.0</td>\n",
              "      <td>3.0</td>\n",
              "      <td>3.0</td>\n",
              "      <td>6</td>\n",
              "      <td>3.0</td>\n",
              "      <td>4.0</td>\n",
              "      <td>3.0</td>\n",
              "    </tr>\n",
              "    <tr>\n",
              "      <th>1</th>\n",
              "      <td>2.0</td>\n",
              "      <td>4.0</td>\n",
              "      <td>5.0</td>\n",
              "      <td>2.0</td>\n",
              "      <td>5.0</td>\n",
              "      <td>5.0</td>\n",
              "      <td>4.0</td>\n",
              "      <td>4.0</td>\n",
              "      <td>3.0</td>\n",
              "      <td>4.0</td>\n",
              "      <td>1.0</td>\n",
              "      <td>1.0</td>\n",
              "      <td>6.0</td>\n",
              "      <td>4.0</td>\n",
              "      <td>3.0</td>\n",
              "      <td>3.0</td>\n",
              "      <td>3.0</td>\n",
              "      <td>3.0</td>\n",
              "      <td>5.0</td>\n",
              "      <td>5.0</td>\n",
              "      <td>4.0</td>\n",
              "      <td>2</td>\n",
              "      <td>4.0</td>\n",
              "      <td>3.0</td>\n",
              "      <td>3.0</td>\n",
              "    </tr>\n",
              "    <tr>\n",
              "      <th>2</th>\n",
              "      <td>5.0</td>\n",
              "      <td>4.0</td>\n",
              "      <td>5.0</td>\n",
              "      <td>4.0</td>\n",
              "      <td>4.0</td>\n",
              "      <td>4.0</td>\n",
              "      <td>5.0</td>\n",
              "      <td>4.0</td>\n",
              "      <td>2.0</td>\n",
              "      <td>5.0</td>\n",
              "      <td>2.0</td>\n",
              "      <td>4.0</td>\n",
              "      <td>4.0</td>\n",
              "      <td>4.0</td>\n",
              "      <td>5.0</td>\n",
              "      <td>4.0</td>\n",
              "      <td>5.0</td>\n",
              "      <td>4.0</td>\n",
              "      <td>2.0</td>\n",
              "      <td>3.0</td>\n",
              "      <td>4.0</td>\n",
              "      <td>2</td>\n",
              "      <td>5.0</td>\n",
              "      <td>5.0</td>\n",
              "      <td>2.0</td>\n",
              "    </tr>\n",
              "    <tr>\n",
              "      <th>3</th>\n",
              "      <td>4.0</td>\n",
              "      <td>4.0</td>\n",
              "      <td>6.0</td>\n",
              "      <td>5.0</td>\n",
              "      <td>5.0</td>\n",
              "      <td>4.0</td>\n",
              "      <td>4.0</td>\n",
              "      <td>3.0</td>\n",
              "      <td>5.0</td>\n",
              "      <td>5.0</td>\n",
              "      <td>5.0</td>\n",
              "      <td>3.0</td>\n",
              "      <td>4.0</td>\n",
              "      <td>4.0</td>\n",
              "      <td>4.0</td>\n",
              "      <td>2.0</td>\n",
              "      <td>5.0</td>\n",
              "      <td>2.0</td>\n",
              "      <td>4.0</td>\n",
              "      <td>1.0</td>\n",
              "      <td>3.0</td>\n",
              "      <td>3</td>\n",
              "      <td>4.0</td>\n",
              "      <td>3.0</td>\n",
              "      <td>5.0</td>\n",
              "    </tr>\n",
              "    <tr>\n",
              "      <th>4</th>\n",
              "      <td>2.0</td>\n",
              "      <td>3.0</td>\n",
              "      <td>3.0</td>\n",
              "      <td>4.0</td>\n",
              "      <td>5.0</td>\n",
              "      <td>4.0</td>\n",
              "      <td>4.0</td>\n",
              "      <td>5.0</td>\n",
              "      <td>3.0</td>\n",
              "      <td>2.0</td>\n",
              "      <td>2.0</td>\n",
              "      <td>2.0</td>\n",
              "      <td>5.0</td>\n",
              "      <td>4.0</td>\n",
              "      <td>5.0</td>\n",
              "      <td>2.0</td>\n",
              "      <td>3.0</td>\n",
              "      <td>4.0</td>\n",
              "      <td>4.0</td>\n",
              "      <td>3.0</td>\n",
              "      <td>3.0</td>\n",
              "      <td>3</td>\n",
              "      <td>4.0</td>\n",
              "      <td>3.0</td>\n",
              "      <td>3.0</td>\n",
              "    </tr>\n",
              "    <tr>\n",
              "      <th>...</th>\n",
              "      <td>...</td>\n",
              "      <td>...</td>\n",
              "      <td>...</td>\n",
              "      <td>...</td>\n",
              "      <td>...</td>\n",
              "      <td>...</td>\n",
              "      <td>...</td>\n",
              "      <td>...</td>\n",
              "      <td>...</td>\n",
              "      <td>...</td>\n",
              "      <td>...</td>\n",
              "      <td>...</td>\n",
              "      <td>...</td>\n",
              "      <td>...</td>\n",
              "      <td>...</td>\n",
              "      <td>...</td>\n",
              "      <td>...</td>\n",
              "      <td>...</td>\n",
              "      <td>...</td>\n",
              "      <td>...</td>\n",
              "      <td>...</td>\n",
              "      <td>...</td>\n",
              "      <td>...</td>\n",
              "      <td>...</td>\n",
              "      <td>...</td>\n",
              "    </tr>\n",
              "    <tr>\n",
              "      <th>2795</th>\n",
              "      <td>6.0</td>\n",
              "      <td>1.0</td>\n",
              "      <td>3.0</td>\n",
              "      <td>3.0</td>\n",
              "      <td>3.0</td>\n",
              "      <td>6.0</td>\n",
              "      <td>6.0</td>\n",
              "      <td>6.0</td>\n",
              "      <td>1.0</td>\n",
              "      <td>1.0</td>\n",
              "      <td>1.0</td>\n",
              "      <td>4.0</td>\n",
              "      <td>5.0</td>\n",
              "      <td>5.0</td>\n",
              "      <td>6.0</td>\n",
              "      <td>1.0</td>\n",
              "      <td>1.0</td>\n",
              "      <td>1.0</td>\n",
              "      <td>NaN</td>\n",
              "      <td>1.0</td>\n",
              "      <td>6.0</td>\n",
              "      <td>1</td>\n",
              "      <td>6.0</td>\n",
              "      <td>6.0</td>\n",
              "      <td>1.0</td>\n",
              "    </tr>\n",
              "    <tr>\n",
              "      <th>2796</th>\n",
              "      <td>2.0</td>\n",
              "      <td>4.0</td>\n",
              "      <td>4.0</td>\n",
              "      <td>3.0</td>\n",
              "      <td>5.0</td>\n",
              "      <td>2.0</td>\n",
              "      <td>3.0</td>\n",
              "      <td>4.0</td>\n",
              "      <td>4.0</td>\n",
              "      <td>3.0</td>\n",
              "      <td>2.0</td>\n",
              "      <td>2.0</td>\n",
              "      <td>4.0</td>\n",
              "      <td>4.0</td>\n",
              "      <td>3.0</td>\n",
              "      <td>NaN</td>\n",
              "      <td>3.0</td>\n",
              "      <td>2.0</td>\n",
              "      <td>3.0</td>\n",
              "      <td>3.0</td>\n",
              "      <td>6.0</td>\n",
              "      <td>3</td>\n",
              "      <td>5.0</td>\n",
              "      <td>4.0</td>\n",
              "      <td>2.0</td>\n",
              "    </tr>\n",
              "    <tr>\n",
              "      <th>2797</th>\n",
              "      <td>2.0</td>\n",
              "      <td>3.0</td>\n",
              "      <td>5.0</td>\n",
              "      <td>2.0</td>\n",
              "      <td>5.0</td>\n",
              "      <td>5.0</td>\n",
              "      <td>5.0</td>\n",
              "      <td>5.0</td>\n",
              "      <td>1.0</td>\n",
              "      <td>1.0</td>\n",
              "      <td>2.0</td>\n",
              "      <td>2.0</td>\n",
              "      <td>6.0</td>\n",
              "      <td>3.0</td>\n",
              "      <td>6.0</td>\n",
              "      <td>3.0</td>\n",
              "      <td>4.0</td>\n",
              "      <td>3.0</td>\n",
              "      <td>3.0</td>\n",
              "      <td>1.0</td>\n",
              "      <td>5.0</td>\n",
              "      <td>1</td>\n",
              "      <td>6.0</td>\n",
              "      <td>4.0</td>\n",
              "      <td>3.0</td>\n",
              "    </tr>\n",
              "    <tr>\n",
              "      <th>2798</th>\n",
              "      <td>5.0</td>\n",
              "      <td>2.0</td>\n",
              "      <td>2.0</td>\n",
              "      <td>4.0</td>\n",
              "      <td>4.0</td>\n",
              "      <td>5.0</td>\n",
              "      <td>5.0</td>\n",
              "      <td>5.0</td>\n",
              "      <td>2.0</td>\n",
              "      <td>6.0</td>\n",
              "      <td>2.0</td>\n",
              "      <td>2.0</td>\n",
              "      <td>4.0</td>\n",
              "      <td>5.0</td>\n",
              "      <td>4.0</td>\n",
              "      <td>5.0</td>\n",
              "      <td>5.0</td>\n",
              "      <td>6.0</td>\n",
              "      <td>4.0</td>\n",
              "      <td>1.0</td>\n",
              "      <td>5.0</td>\n",
              "      <td>2</td>\n",
              "      <td>5.0</td>\n",
              "      <td>5.0</td>\n",
              "      <td>1.0</td>\n",
              "    </tr>\n",
              "    <tr>\n",
              "      <th>2799</th>\n",
              "      <td>2.0</td>\n",
              "      <td>3.0</td>\n",
              "      <td>1.0</td>\n",
              "      <td>4.0</td>\n",
              "      <td>2.0</td>\n",
              "      <td>5.0</td>\n",
              "      <td>5.0</td>\n",
              "      <td>3.0</td>\n",
              "      <td>3.0</td>\n",
              "      <td>3.0</td>\n",
              "      <td>3.0</td>\n",
              "      <td>3.0</td>\n",
              "      <td>1.0</td>\n",
              "      <td>2.0</td>\n",
              "      <td>2.0</td>\n",
              "      <td>1.0</td>\n",
              "      <td>2.0</td>\n",
              "      <td>2.0</td>\n",
              "      <td>1.0</td>\n",
              "      <td>1.0</td>\n",
              "      <td>3.0</td>\n",
              "      <td>1</td>\n",
              "      <td>3.0</td>\n",
              "      <td>5.0</td>\n",
              "      <td>1.0</td>\n",
              "    </tr>\n",
              "  </tbody>\n",
              "</table>\n",
              "<p>2800 rows × 25 columns</p>\n",
              "</div>"
            ],
            "text/plain": [
              "       A1   A2   A3   A4   A5   C1   C2  ...   N4   N5   O1  O2   O3   O4   O5\n",
              "0     2.0  4.0  3.0  4.0  4.0  2.0  3.0  ...  2.0  3.0  3.0   6  3.0  4.0  3.0\n",
              "1     2.0  4.0  5.0  2.0  5.0  5.0  4.0  ...  5.0  5.0  4.0   2  4.0  3.0  3.0\n",
              "2     5.0  4.0  5.0  4.0  4.0  4.0  5.0  ...  2.0  3.0  4.0   2  5.0  5.0  2.0\n",
              "3     4.0  4.0  6.0  5.0  5.0  4.0  4.0  ...  4.0  1.0  3.0   3  4.0  3.0  5.0\n",
              "4     2.0  3.0  3.0  4.0  5.0  4.0  4.0  ...  4.0  3.0  3.0   3  4.0  3.0  3.0\n",
              "...   ...  ...  ...  ...  ...  ...  ...  ...  ...  ...  ...  ..  ...  ...  ...\n",
              "2795  6.0  1.0  3.0  3.0  3.0  6.0  6.0  ...  NaN  1.0  6.0   1  6.0  6.0  1.0\n",
              "2796  2.0  4.0  4.0  3.0  5.0  2.0  3.0  ...  3.0  3.0  6.0   3  5.0  4.0  2.0\n",
              "2797  2.0  3.0  5.0  2.0  5.0  5.0  5.0  ...  3.0  1.0  5.0   1  6.0  4.0  3.0\n",
              "2798  5.0  2.0  2.0  4.0  4.0  5.0  5.0  ...  4.0  1.0  5.0   2  5.0  5.0  1.0\n",
              "2799  2.0  3.0  1.0  4.0  2.0  5.0  5.0  ...  1.0  1.0  3.0   1  3.0  5.0  1.0\n",
              "\n",
              "[2800 rows x 25 columns]"
            ]
          },
          "metadata": {
            "tags": []
          },
          "execution_count": 36
        }
      ]
    },
    {
      "cell_type": "code",
      "metadata": {
        "id": "KSZSuD1JzTB1"
      },
      "source": [
        "BFI_data_dropped = BFI_data_dropped.dropna()"
      ],
      "execution_count": 37,
      "outputs": []
    },
    {
      "cell_type": "code",
      "metadata": {
        "id": "qyVrg7lu0f_u",
        "colab": {
          "base_uri": "https://localhost:8080/"
        },
        "outputId": "7c3fab95-4e79-4b02-b060-6550d374a3d4"
      },
      "source": [
        "BFI_data_dropped.shape"
      ],
      "execution_count": 38,
      "outputs": [
        {
          "output_type": "execute_result",
          "data": {
            "text/plain": [
              "(2436, 25)"
            ]
          },
          "metadata": {
            "tags": []
          },
          "execution_count": 38
        }
      ]
    },
    {
      "cell_type": "markdown",
      "metadata": {
        "id": "fIleDD3s1EDX"
      },
      "source": [
        "##Bartlett’s test"
      ]
    },
    {
      "cell_type": "code",
      "metadata": {
        "id": "aYzRC3IF1Aie",
        "colab": {
          "base_uri": "https://localhost:8080/"
        },
        "outputId": "0091adf3-7c14-4784-aa2a-b13f02e1177b"
      },
      "source": [
        "from factor_analyzer.factor_analyzer import calculate_bartlett_sphericity\n",
        "chi_square_value,p_value=calculate_bartlett_sphericity(BFI_data_dropped) \n",
        "chi_square_value, p_value"
      ],
      "execution_count": 39,
      "outputs": [
        {
          "output_type": "execute_result",
          "data": {
            "text/plain": [
              "(18170.966350869243, 0.0)"
            ]
          },
          "metadata": {
            "tags": []
          },
          "execution_count": 39
        }
      ]
    },
    {
      "cell_type": "markdown",
      "metadata": {
        "id": "3c3FiDfL2RTV"
      },
      "source": [
        "##Kaiser-Meyer-Olkin (KMO) Test "
      ]
    },
    {
      "cell_type": "markdown",
      "metadata": {
        "id": "q8ooq78Y2_5I"
      },
      "source": [
        "ถ้าค่า KMO model มีค่ามากกว่า 0.6 เเปลว่าข้อมูลเหมาะสมที่นำไปทำ Factor Analysis"
      ]
    },
    {
      "cell_type": "code",
      "metadata": {
        "id": "9arRQ-Xq2S3w"
      },
      "source": [
        "from factor_analyzer.factor_analyzer import calculate_kmo\n",
        "kmo_all,kmo_model=calculate_kmo(BFI_data_dropped)"
      ],
      "execution_count": 40,
      "outputs": []
    },
    {
      "cell_type": "code",
      "metadata": {
        "id": "khCqfdoN2mTZ",
        "colab": {
          "base_uri": "https://localhost:8080/"
        },
        "outputId": "c2c2ce8a-bb21-4867-9783-30a5c62efa94"
      },
      "source": [
        "kmo_model ##ถ้าคำนวณได้น้อยกว่า0.6 เเสดงว่าใช้ไม่ได้"
      ],
      "execution_count": 41,
      "outputs": [
        {
          "output_type": "execute_result",
          "data": {
            "text/plain": [
              "0.8485397221949221"
            ]
          },
          "metadata": {
            "tags": []
          },
          "execution_count": 41
        }
      ]
    },
    {
      "cell_type": "markdown",
      "metadata": {
        "id": "N2j2S5_x4vTu"
      },
      "source": [
        "##รัน Factor Analysis อีกรอบ ด้วย pareeters จำนวน factor เท่ากับ 6"
      ]
    },
    {
      "cell_type": "code",
      "metadata": {
        "id": "w1FxJns76YPt"
      },
      "source": [
        "from factor_analyzer import FactorAnalyzer\n",
        "fa2 = FactorAnalyzer(n_factors=6)\n",
        "data_fa = fa2.fit_transform(BFI_data_dropped)"
      ],
      "execution_count": 42,
      "outputs": []
    },
    {
      "cell_type": "code",
      "metadata": {
        "id": "wMPwHNY96cLe",
        "outputId": "034815b0-c5b1-4d4b-9437-aaa4751361e9",
        "colab": {
          "base_uri": "https://localhost:8080/"
        }
      },
      "source": [
        "fa2.loadings_.shape"
      ],
      "execution_count": 43,
      "outputs": [
        {
          "output_type": "execute_result",
          "data": {
            "text/plain": [
              "(25, 6)"
            ]
          },
          "metadata": {
            "tags": []
          },
          "execution_count": 43
        }
      ]
    },
    {
      "cell_type": "markdown",
      "metadata": {
        "id": "9NiBAQt-6hK2"
      },
      "source": [
        "##Plot factor loadings"
      ]
    },
    {
      "cell_type": "code",
      "metadata": {
        "id": "lj8rofzV6iuF"
      },
      "source": [
        "from matplotlib import pyplot as plt\n",
        "import numpy as np\n",
        "import matplotlib"
      ],
      "execution_count": 44,
      "outputs": []
    },
    {
      "cell_type": "markdown",
      "metadata": {
        "id": "UkjGdys06mDm"
      },
      "source": [
        "##matrix plot\n",
        "\n",
        "confirmatory"
      ]
    },
    {
      "cell_type": "code",
      "metadata": {
        "id": "P9RqoMN26pdW",
        "outputId": "01c06b05-423f-4f98-a43a-8d0acbf729cc",
        "colab": {
          "base_uri": "https://localhost:8080/",
          "height": 880
        }
      },
      "source": [
        "matplotlib.rcParams['figure.figsize']=[15,15]\n",
        "plt.imshow(np.absolute(fa2.loadings_)) #ค่ามาก = สีสว่าง ,ค่าน้อย = เป็นสีเข้ม"
      ],
      "execution_count": 45,
      "outputs": [
        {
          "output_type": "execute_result",
          "data": {
            "text/plain": [
              "<matplotlib.image.AxesImage at 0x7f83839546d0>"
            ]
          },
          "metadata": {
            "tags": []
          },
          "execution_count": 45
        },
        {
          "output_type": "display_data",
          "data": {
            "image/png": "[encoded data removed]",
            "text/plain": [
              "<Figure size 1080x1080 with 1 Axes>"
            ]
          },
          "metadata": {
            "tags": [],
            "needs_background": "light"
          }
        }
      ]
    },
    {
      "cell_type": "markdown",
      "metadata": {
        "id": "gtBWkr3m63pW"
      },
      "source": [
        "##กราฟแท่ง\n",
        "\n",
        "Exploratory"
      ]
    },
    {
      "cell_type": "code",
      "metadata": {
        "id": "5IBktz0064ql",
        "outputId": "4d107354-9538-4c42-c60a-f5b49fb66e30",
        "colab": {
          "base_uri": "https://localhost:8080/"
        }
      },
      "source": [
        "BFI_data_dropped.columns"
      ],
      "execution_count": 46,
      "outputs": [
        {
          "output_type": "execute_result",
          "data": {
            "text/plain": [
              "Index(['A1', 'A2', 'A3', 'A4', 'A5', 'C1', 'C2', 'C3', 'C4', 'C5', 'E1', 'E2',\n",
              "       'E3', 'E4', 'E5', 'N1', 'N2', 'N3', 'N4', 'N5', 'O1', 'O2', 'O3', 'O4',\n",
              "       'O5'],\n",
              "      dtype='object')"
            ]
          },
          "metadata": {
            "tags": []
          },
          "execution_count": 46
        }
      ]
    },
    {
      "cell_type": "code",
      "metadata": {
        "id": "E0GC8O9069xd",
        "outputId": "7c12141d-c067-46a2-e75f-ffac112add5d",
        "colab": {
          "base_uri": "https://localhost:8080/",
          "height": 880
        }
      },
      "source": [
        "plt.bar(range(25),np.absolute(fa2.loadings_[:,0]),tick_label=BFI_data_dropped.columns)"
      ],
      "execution_count": 47,
      "outputs": [
        {
          "output_type": "execute_result",
          "data": {
            "text/plain": [
              "<BarContainer object of 25 artists>"
            ]
          },
          "metadata": {
            "tags": []
          },
          "execution_count": 47
        },
        {
          "output_type": "display_data",
          "data": {
            "image/png": "[encoded data removed]",
            "text/plain": [
              "<Figure size 1080x1080 with 1 Axes>"
            ]
          },
          "metadata": {
            "tags": [],
            "needs_background": "light"
          }
        }
      ]
    },
    {
      "cell_type": "markdown",
      "metadata": {
        "id": "ZzkftX0w7CBl"
      },
      "source": [
        "##Exam 3\n",
        "\n",
        "https://drive.google.com/file/d/1UORRKWMb8GCN455eJE_n9MvBHupnSVwv/view"
      ]
    },
    {
      "cell_type": "code",
      "metadata": {
        "id": "u8roM6I77ImO"
      },
      "source": [
        "import pandas as pd"
      ],
      "execution_count": 146,
      "outputs": []
    },
    {
      "cell_type": "code",
      "metadata": {
        "id": "HHw-Jr_b7XEy",
        "outputId": "1ddeb326-1c7a-42ed-c7d6-003901de7e7f",
        "colab": {
          "base_uri": "https://localhost:8080/",
          "height": 417
        }
      },
      "source": [
        "FIFA_data = pd.read_csv('FIFA 2018 Statistics.csv')\n",
        "FIFA_data.head()"
      ],
      "execution_count": 162,
      "outputs": [
        {
          "output_type": "execute_result",
          "data": {
            "text/html": [
              "<div>\n",
              "<style scoped>\n",
              "    .dataframe tbody tr th:only-of-type {\n",
              "        vertical-align: middle;\n",
              "    }\n",
              "\n",
              "    .dataframe tbody tr th {\n",
              "        vertical-align: top;\n",
              "    }\n",
              "\n",
              "    .dataframe thead th {\n",
              "        text-align: right;\n",
              "    }\n",
              "</style>\n",
              "<table border=\"1\" class=\"dataframe\">\n",
              "  <thead>\n",
              "    <tr style=\"text-align: right;\">\n",
              "      <th></th>\n",
              "      <th>Date</th>\n",
              "      <th>Team</th>\n",
              "      <th>Opponent</th>\n",
              "      <th>Goal Scored</th>\n",
              "      <th>Ball Possession %</th>\n",
              "      <th>Attempts</th>\n",
              "      <th>On-Target</th>\n",
              "      <th>Off-Target</th>\n",
              "      <th>Blocked</th>\n",
              "      <th>Corners</th>\n",
              "      <th>Offsides</th>\n",
              "      <th>Free Kicks</th>\n",
              "      <th>Saves</th>\n",
              "      <th>Pass Accuracy %</th>\n",
              "      <th>Passes</th>\n",
              "      <th>Distance Covered (Kms)</th>\n",
              "      <th>Fouls Committed</th>\n",
              "      <th>Yellow Card</th>\n",
              "      <th>Yellow &amp; Red</th>\n",
              "      <th>Red</th>\n",
              "      <th>Man of the Match</th>\n",
              "      <th>1st Goal</th>\n",
              "      <th>Round</th>\n",
              "      <th>PSO</th>\n",
              "      <th>Goals in PSO</th>\n",
              "      <th>Own goals</th>\n",
              "      <th>Own goal Time</th>\n",
              "    </tr>\n",
              "  </thead>\n",
              "  <tbody>\n",
              "    <tr>\n",
              "      <th>0</th>\n",
              "      <td>14-06-2018</td>\n",
              "      <td>Russia</td>\n",
              "      <td>Saudi Arabia</td>\n",
              "      <td>5</td>\n",
              "      <td>40</td>\n",
              "      <td>13</td>\n",
              "      <td>7</td>\n",
              "      <td>3</td>\n",
              "      <td>3</td>\n",
              "      <td>6</td>\n",
              "      <td>3</td>\n",
              "      <td>11</td>\n",
              "      <td>0</td>\n",
              "      <td>78</td>\n",
              "      <td>306</td>\n",
              "      <td>118</td>\n",
              "      <td>22</td>\n",
              "      <td>0</td>\n",
              "      <td>0</td>\n",
              "      <td>0</td>\n",
              "      <td>Yes</td>\n",
              "      <td>12.0</td>\n",
              "      <td>Group Stage</td>\n",
              "      <td>No</td>\n",
              "      <td>0</td>\n",
              "      <td>NaN</td>\n",
              "      <td>NaN</td>\n",
              "    </tr>\n",
              "    <tr>\n",
              "      <th>1</th>\n",
              "      <td>14-06-2018</td>\n",
              "      <td>Saudi Arabia</td>\n",
              "      <td>Russia</td>\n",
              "      <td>0</td>\n",
              "      <td>60</td>\n",
              "      <td>6</td>\n",
              "      <td>0</td>\n",
              "      <td>3</td>\n",
              "      <td>3</td>\n",
              "      <td>2</td>\n",
              "      <td>1</td>\n",
              "      <td>25</td>\n",
              "      <td>2</td>\n",
              "      <td>86</td>\n",
              "      <td>511</td>\n",
              "      <td>105</td>\n",
              "      <td>10</td>\n",
              "      <td>0</td>\n",
              "      <td>0</td>\n",
              "      <td>0</td>\n",
              "      <td>No</td>\n",
              "      <td>NaN</td>\n",
              "      <td>Group Stage</td>\n",
              "      <td>No</td>\n",
              "      <td>0</td>\n",
              "      <td>NaN</td>\n",
              "      <td>NaN</td>\n",
              "    </tr>\n",
              "    <tr>\n",
              "      <th>2</th>\n",
              "      <td>15-06-2018</td>\n",
              "      <td>Egypt</td>\n",
              "      <td>Uruguay</td>\n",
              "      <td>0</td>\n",
              "      <td>43</td>\n",
              "      <td>8</td>\n",
              "      <td>3</td>\n",
              "      <td>3</td>\n",
              "      <td>2</td>\n",
              "      <td>0</td>\n",
              "      <td>1</td>\n",
              "      <td>7</td>\n",
              "      <td>3</td>\n",
              "      <td>78</td>\n",
              "      <td>395</td>\n",
              "      <td>112</td>\n",
              "      <td>12</td>\n",
              "      <td>2</td>\n",
              "      <td>0</td>\n",
              "      <td>0</td>\n",
              "      <td>No</td>\n",
              "      <td>NaN</td>\n",
              "      <td>Group Stage</td>\n",
              "      <td>No</td>\n",
              "      <td>0</td>\n",
              "      <td>NaN</td>\n",
              "      <td>NaN</td>\n",
              "    </tr>\n",
              "    <tr>\n",
              "      <th>3</th>\n",
              "      <td>15-06-2018</td>\n",
              "      <td>Uruguay</td>\n",
              "      <td>Egypt</td>\n",
              "      <td>1</td>\n",
              "      <td>57</td>\n",
              "      <td>14</td>\n",
              "      <td>4</td>\n",
              "      <td>6</td>\n",
              "      <td>4</td>\n",
              "      <td>5</td>\n",
              "      <td>1</td>\n",
              "      <td>13</td>\n",
              "      <td>3</td>\n",
              "      <td>86</td>\n",
              "      <td>589</td>\n",
              "      <td>111</td>\n",
              "      <td>6</td>\n",
              "      <td>0</td>\n",
              "      <td>0</td>\n",
              "      <td>0</td>\n",
              "      <td>Yes</td>\n",
              "      <td>89.0</td>\n",
              "      <td>Group Stage</td>\n",
              "      <td>No</td>\n",
              "      <td>0</td>\n",
              "      <td>NaN</td>\n",
              "      <td>NaN</td>\n",
              "    </tr>\n",
              "    <tr>\n",
              "      <th>4</th>\n",
              "      <td>15-06-2018</td>\n",
              "      <td>Morocco</td>\n",
              "      <td>Iran</td>\n",
              "      <td>0</td>\n",
              "      <td>64</td>\n",
              "      <td>13</td>\n",
              "      <td>3</td>\n",
              "      <td>6</td>\n",
              "      <td>4</td>\n",
              "      <td>5</td>\n",
              "      <td>0</td>\n",
              "      <td>14</td>\n",
              "      <td>2</td>\n",
              "      <td>86</td>\n",
              "      <td>433</td>\n",
              "      <td>101</td>\n",
              "      <td>22</td>\n",
              "      <td>1</td>\n",
              "      <td>0</td>\n",
              "      <td>0</td>\n",
              "      <td>No</td>\n",
              "      <td>NaN</td>\n",
              "      <td>Group Stage</td>\n",
              "      <td>No</td>\n",
              "      <td>0</td>\n",
              "      <td>1.0</td>\n",
              "      <td>90.0</td>\n",
              "    </tr>\n",
              "  </tbody>\n",
              "</table>\n",
              "</div>"
            ],
            "text/plain": [
              "         Date          Team  ... Own goals  Own goal Time\n",
              "0  14-06-2018        Russia  ...       NaN            NaN\n",
              "1  14-06-2018  Saudi Arabia  ...       NaN            NaN\n",
              "2  15-06-2018         Egypt  ...       NaN            NaN\n",
              "3  15-06-2018       Uruguay  ...       NaN            NaN\n",
              "4  15-06-2018       Morocco  ...       1.0           90.0\n",
              "\n",
              "[5 rows x 27 columns]"
            ]
          },
          "metadata": {
            "tags": []
          },
          "execution_count": 162
        }
      ]
    },
    {
      "cell_type": "markdown",
      "metadata": {
        "id": "M_5fZI3wMi-3"
      },
      "source": [
        "เเก้ error ModuleFoundtionError : No module named 'factor_analyzer' โดย\n",
        "\n",
        "##วิธี install Factor อื่นๆ"
      ]
    },
    {
      "cell_type": "code",
      "metadata": {
        "id": "IfEjoHu4Ienm",
        "outputId": "3f04a8b9-9643-46b7-b453-ddb908672254",
        "colab": {
          "base_uri": "https://localhost:8080/"
        }
      },
      "source": [
        "!pip install factor_analyzer #ถ้าเกิดเราใช้ libary ที่ไม่ได้มีคนใช้บ่อย เราจะต้องทำการติดตั้งเอง"
      ],
      "execution_count": 164,
      "outputs": [
        {
          "output_type": "stream",
          "text": [
            "Requirement already satisfied: factor_analyzer in /usr/local/lib/python3.7/dist-packages (0.3.2)\n",
            "Requirement already satisfied: scikit-learn in /usr/local/lib/python3.7/dist-packages (from factor_analyzer) (0.22.2.post1)\n",
            "Requirement already satisfied: scipy in /usr/local/lib/python3.7/dist-packages (from factor_analyzer) (1.4.1)\n",
            "Requirement already satisfied: numpy in /usr/local/lib/python3.7/dist-packages (from factor_analyzer) (1.19.5)\n",
            "Requirement already satisfied: pandas in /usr/local/lib/python3.7/dist-packages (from factor_analyzer) (1.1.5)\n",
            "Requirement already satisfied: joblib>=0.11 in /usr/local/lib/python3.7/dist-packages (from scikit-learn->factor_analyzer) (1.0.1)\n",
            "Requirement already satisfied: python-dateutil>=2.7.3 in /usr/local/lib/python3.7/dist-packages (from pandas->factor_analyzer) (2.8.1)\n",
            "Requirement already satisfied: pytz>=2017.2 in /usr/local/lib/python3.7/dist-packages (from pandas->factor_analyzer) (2018.9)\n",
            "Requirement already satisfied: six>=1.5 in /usr/local/lib/python3.7/dist-packages (from python-dateutil>=2.7.3->pandas->factor_analyzer) (1.15.0)\n"
          ],
          "name": "stdout"
        }
      ]
    },
    {
      "cell_type": "code",
      "metadata": {
        "id": "U9bKSFhPIgzI"
      },
      "source": [
        "from factor_analyzer import FactorAnalyzer\n",
        "import matplotlib.pyplot as plt"
      ],
      "execution_count": 165,
      "outputs": []
    },
    {
      "cell_type": "markdown",
      "metadata": {
        "id": "Wp73kaVqMpA4"
      },
      "source": [
        "##เลือกข้อมูลมาเฉพาะ Goal Scored ถึง Red ด้วยคำสั่ง .loc[]"
      ]
    },
    {
      "cell_type": "code",
      "metadata": {
        "id": "8pluWt7vImBF",
        "outputId": "580b9632-ba4e-4238-f807-47cd947ae179",
        "colab": {
          "base_uri": "https://localhost:8080/",
          "height": 418
        }
      },
      "source": [
        "FIFA_data_dropped = FIFA_data.iloc[:,3:-7]\n",
        "FIFA_data_dropped ##เอาทุกแถว ตั้งแต่แถวที่ 3 ถึง -7"
      ],
      "execution_count": 185,
      "outputs": [
        {
          "output_type": "execute_result",
          "data": {
            "text/html": [
              "<div>\n",
              "<style scoped>\n",
              "    .dataframe tbody tr th:only-of-type {\n",
              "        vertical-align: middle;\n",
              "    }\n",
              "\n",
              "    .dataframe tbody tr th {\n",
              "        vertical-align: top;\n",
              "    }\n",
              "\n",
              "    .dataframe thead th {\n",
              "        text-align: right;\n",
              "    }\n",
              "</style>\n",
              "<table border=\"1\" class=\"dataframe\">\n",
              "  <thead>\n",
              "    <tr style=\"text-align: right;\">\n",
              "      <th></th>\n",
              "      <th>Goal Scored</th>\n",
              "      <th>Ball Possession %</th>\n",
              "      <th>Attempts</th>\n",
              "      <th>On-Target</th>\n",
              "      <th>Off-Target</th>\n",
              "      <th>Blocked</th>\n",
              "      <th>Corners</th>\n",
              "      <th>Offsides</th>\n",
              "      <th>Free Kicks</th>\n",
              "      <th>Saves</th>\n",
              "      <th>Pass Accuracy %</th>\n",
              "      <th>Passes</th>\n",
              "      <th>Distance Covered (Kms)</th>\n",
              "      <th>Fouls Committed</th>\n",
              "      <th>Yellow Card</th>\n",
              "      <th>Yellow &amp; Red</th>\n",
              "      <th>Red</th>\n",
              "    </tr>\n",
              "  </thead>\n",
              "  <tbody>\n",
              "    <tr>\n",
              "      <th>0</th>\n",
              "      <td>5</td>\n",
              "      <td>40</td>\n",
              "      <td>13</td>\n",
              "      <td>7</td>\n",
              "      <td>3</td>\n",
              "      <td>3</td>\n",
              "      <td>6</td>\n",
              "      <td>3</td>\n",
              "      <td>11</td>\n",
              "      <td>0</td>\n",
              "      <td>78</td>\n",
              "      <td>306</td>\n",
              "      <td>118</td>\n",
              "      <td>22</td>\n",
              "      <td>0</td>\n",
              "      <td>0</td>\n",
              "      <td>0</td>\n",
              "    </tr>\n",
              "    <tr>\n",
              "      <th>1</th>\n",
              "      <td>0</td>\n",
              "      <td>60</td>\n",
              "      <td>6</td>\n",
              "      <td>0</td>\n",
              "      <td>3</td>\n",
              "      <td>3</td>\n",
              "      <td>2</td>\n",
              "      <td>1</td>\n",
              "      <td>25</td>\n",
              "      <td>2</td>\n",
              "      <td>86</td>\n",
              "      <td>511</td>\n",
              "      <td>105</td>\n",
              "      <td>10</td>\n",
              "      <td>0</td>\n",
              "      <td>0</td>\n",
              "      <td>0</td>\n",
              "    </tr>\n",
              "    <tr>\n",
              "      <th>2</th>\n",
              "      <td>0</td>\n",
              "      <td>43</td>\n",
              "      <td>8</td>\n",
              "      <td>3</td>\n",
              "      <td>3</td>\n",
              "      <td>2</td>\n",
              "      <td>0</td>\n",
              "      <td>1</td>\n",
              "      <td>7</td>\n",
              "      <td>3</td>\n",
              "      <td>78</td>\n",
              "      <td>395</td>\n",
              "      <td>112</td>\n",
              "      <td>12</td>\n",
              "      <td>2</td>\n",
              "      <td>0</td>\n",
              "      <td>0</td>\n",
              "    </tr>\n",
              "    <tr>\n",
              "      <th>3</th>\n",
              "      <td>1</td>\n",
              "      <td>57</td>\n",
              "      <td>14</td>\n",
              "      <td>4</td>\n",
              "      <td>6</td>\n",
              "      <td>4</td>\n",
              "      <td>5</td>\n",
              "      <td>1</td>\n",
              "      <td>13</td>\n",
              "      <td>3</td>\n",
              "      <td>86</td>\n",
              "      <td>589</td>\n",
              "      <td>111</td>\n",
              "      <td>6</td>\n",
              "      <td>0</td>\n",
              "      <td>0</td>\n",
              "      <td>0</td>\n",
              "    </tr>\n",
              "    <tr>\n",
              "      <th>4</th>\n",
              "      <td>0</td>\n",
              "      <td>64</td>\n",
              "      <td>13</td>\n",
              "      <td>3</td>\n",
              "      <td>6</td>\n",
              "      <td>4</td>\n",
              "      <td>5</td>\n",
              "      <td>0</td>\n",
              "      <td>14</td>\n",
              "      <td>2</td>\n",
              "      <td>86</td>\n",
              "      <td>433</td>\n",
              "      <td>101</td>\n",
              "      <td>22</td>\n",
              "      <td>1</td>\n",
              "      <td>0</td>\n",
              "      <td>0</td>\n",
              "    </tr>\n",
              "    <tr>\n",
              "      <th>...</th>\n",
              "      <td>...</td>\n",
              "      <td>...</td>\n",
              "      <td>...</td>\n",
              "      <td>...</td>\n",
              "      <td>...</td>\n",
              "      <td>...</td>\n",
              "      <td>...</td>\n",
              "      <td>...</td>\n",
              "      <td>...</td>\n",
              "      <td>...</td>\n",
              "      <td>...</td>\n",
              "      <td>...</td>\n",
              "      <td>...</td>\n",
              "      <td>...</td>\n",
              "      <td>...</td>\n",
              "      <td>...</td>\n",
              "      <td>...</td>\n",
              "    </tr>\n",
              "    <tr>\n",
              "      <th>123</th>\n",
              "      <td>1</td>\n",
              "      <td>46</td>\n",
              "      <td>11</td>\n",
              "      <td>1</td>\n",
              "      <td>6</td>\n",
              "      <td>4</td>\n",
              "      <td>4</td>\n",
              "      <td>3</td>\n",
              "      <td>24</td>\n",
              "      <td>5</td>\n",
              "      <td>79</td>\n",
              "      <td>479</td>\n",
              "      <td>148</td>\n",
              "      <td>14</td>\n",
              "      <td>1</td>\n",
              "      <td>0</td>\n",
              "      <td>0</td>\n",
              "    </tr>\n",
              "    <tr>\n",
              "      <th>124</th>\n",
              "      <td>2</td>\n",
              "      <td>43</td>\n",
              "      <td>12</td>\n",
              "      <td>4</td>\n",
              "      <td>3</td>\n",
              "      <td>5</td>\n",
              "      <td>4</td>\n",
              "      <td>1</td>\n",
              "      <td>5</td>\n",
              "      <td>5</td>\n",
              "      <td>88</td>\n",
              "      <td>510</td>\n",
              "      <td>108</td>\n",
              "      <td>11</td>\n",
              "      <td>1</td>\n",
              "      <td>0</td>\n",
              "      <td>0</td>\n",
              "    </tr>\n",
              "    <tr>\n",
              "      <th>125</th>\n",
              "      <td>0</td>\n",
              "      <td>57</td>\n",
              "      <td>15</td>\n",
              "      <td>5</td>\n",
              "      <td>7</td>\n",
              "      <td>3</td>\n",
              "      <td>5</td>\n",
              "      <td>0</td>\n",
              "      <td>12</td>\n",
              "      <td>2</td>\n",
              "      <td>92</td>\n",
              "      <td>698</td>\n",
              "      <td>110</td>\n",
              "      <td>5</td>\n",
              "      <td>2</td>\n",
              "      <td>0</td>\n",
              "      <td>0</td>\n",
              "    </tr>\n",
              "    <tr>\n",
              "      <th>126</th>\n",
              "      <td>4</td>\n",
              "      <td>39</td>\n",
              "      <td>8</td>\n",
              "      <td>6</td>\n",
              "      <td>1</td>\n",
              "      <td>1</td>\n",
              "      <td>2</td>\n",
              "      <td>1</td>\n",
              "      <td>14</td>\n",
              "      <td>1</td>\n",
              "      <td>75</td>\n",
              "      <td>271</td>\n",
              "      <td>99</td>\n",
              "      <td>14</td>\n",
              "      <td>2</td>\n",
              "      <td>0</td>\n",
              "      <td>0</td>\n",
              "    </tr>\n",
              "    <tr>\n",
              "      <th>127</th>\n",
              "      <td>2</td>\n",
              "      <td>61</td>\n",
              "      <td>15</td>\n",
              "      <td>3</td>\n",
              "      <td>8</td>\n",
              "      <td>4</td>\n",
              "      <td>6</td>\n",
              "      <td>1</td>\n",
              "      <td>15</td>\n",
              "      <td>3</td>\n",
              "      <td>83</td>\n",
              "      <td>547</td>\n",
              "      <td>100</td>\n",
              "      <td>13</td>\n",
              "      <td>1</td>\n",
              "      <td>0</td>\n",
              "      <td>0</td>\n",
              "    </tr>\n",
              "  </tbody>\n",
              "</table>\n",
              "<p>128 rows × 17 columns</p>\n",
              "</div>"
            ],
            "text/plain": [
              "     Goal Scored  Ball Possession %  Attempts  ...  Yellow Card  Yellow & Red  Red\n",
              "0              5                 40        13  ...            0             0    0\n",
              "1              0                 60         6  ...            0             0    0\n",
              "2              0                 43         8  ...            2             0    0\n",
              "3              1                 57        14  ...            0             0    0\n",
              "4              0                 64        13  ...            1             0    0\n",
              "..           ...                ...       ...  ...          ...           ...  ...\n",
              "123            1                 46        11  ...            1             0    0\n",
              "124            2                 43        12  ...            1             0    0\n",
              "125            0                 57        15  ...            2             0    0\n",
              "126            4                 39         8  ...            2             0    0\n",
              "127            2                 61        15  ...            1             0    0\n",
              "\n",
              "[128 rows x 17 columns]"
            ]
          },
          "metadata": {
            "tags": []
          },
          "execution_count": 185
        }
      ]
    },
    {
      "cell_type": "code",
      "metadata": {
        "id": "t8ODRpgwI3L9"
      },
      "source": [
        "FIFA_data_dropped = FIFA_data_dropped.dropna()"
      ],
      "execution_count": 186,
      "outputs": []
    },
    {
      "cell_type": "code",
      "metadata": {
        "id": "GidMQymtI8j9",
        "outputId": "33ba0a2a-1aab-4743-82d2-c2c28803e1e0",
        "colab": {
          "base_uri": "https://localhost:8080/"
        }
      },
      "source": [
        "FIFA_data_dropped.shape #ขนาดของ data"
      ],
      "execution_count": 187,
      "outputs": [
        {
          "output_type": "execute_result",
          "data": {
            "text/plain": [
              "(128, 17)"
            ]
          },
          "metadata": {
            "tags": []
          },
          "execution_count": 187
        }
      ]
    },
    {
      "cell_type": "markdown",
      "metadata": {
        "id": "2t9W3y6XM4v2"
      },
      "source": [
        "##Bartlett’s test"
      ]
    },
    {
      "cell_type": "code",
      "metadata": {
        "id": "D9ekK7R0JNfd",
        "outputId": "e9988134-0cf2-4ff8-a279-3225053ac37d",
        "colab": {
          "base_uri": "https://localhost:8080/"
        }
      },
      "source": [
        "from factor_analyzer.factor_analyzer import calculate_bartlett_sphericity\n",
        "chi_square_value,p_value=calculate_bartlett_sphericity(FIFA_data_dropped)\n",
        "chi_square_value, p_value ##ไม่ควรมี กราฟเป็นเส้นตรง "
      ],
      "execution_count": 188,
      "outputs": [
        {
          "output_type": "execute_result",
          "data": {
            "text/plain": [
              "(1299.3697851171412, 2.713580160466225e-189)"
            ]
          },
          "metadata": {
            "tags": []
          },
          "execution_count": 188
        }
      ]
    },
    {
      "cell_type": "markdown",
      "metadata": {
        "id": "K0D35U30M8fE"
      },
      "source": [
        "##Kaiser-Meyer-Olkin (KMO) Test\n",
        "\n",
        "ถ้าค่า KMO model มีค่ามากกว่า 0.6 เเปลว่าข้อมูลเหมาะสมที่นำไปทำ Factor Analysis"
      ]
    },
    {
      "cell_type": "code",
      "metadata": {
        "id": "m34B0l4hKPX3",
        "outputId": "e45b02f1-a226-4020-ef52-d8fcae4d93f9",
        "colab": {
          "base_uri": "https://localhost:8080/"
        }
      },
      "source": [
        "from factor_analyzer.factor_analyzer import calculate_kmo\n",
        "kmo_all,kmo_model=calculate_kmo(FIFA_data_dropped) \n",
        "kmo_model ##ถ้าคำนวณได้น้อยกว่า0.6 เเสดงว่าใช้ไม่ได้\n",
        "##ปัดเป็น0.6"
      ],
      "execution_count": 189,
      "outputs": [
        {
          "output_type": "execute_result",
          "data": {
            "text/plain": [
              "0.5594556344508279"
            ]
          },
          "metadata": {
            "tags": []
          },
          "execution_count": 189
        }
      ]
    },
    {
      "cell_type": "markdown",
      "metadata": {
        "id": "zymWybdBNF9B"
      },
      "source": [
        "##การทำ Factor Analysis"
      ]
    },
    {
      "cell_type": "markdown",
      "metadata": {
        "id": "JmfWTQFwNM7u"
      },
      "source": [
        " ## Import"
      ]
    },
    {
      "cell_type": "code",
      "metadata": {
        "id": "GY_rW2KUKUMJ"
      },
      "source": [
        "from factor_analyzer import FactorAnalyzer"
      ],
      "execution_count": 190,
      "outputs": []
    },
    {
      "cell_type": "markdown",
      "metadata": {
        "id": "sG9EbM5UNP3u"
      },
      "source": [
        "##Define"
      ]
    },
    {
      "cell_type": "code",
      "metadata": {
        "id": "0bwNblklKYpS"
      },
      "source": [
        "fa = FactorAnalyzer(n_factors=16) ##กำหนด factor เท่ากับ 16"
      ],
      "execution_count": 199,
      "outputs": []
    },
    {
      "cell_type": "markdown",
      "metadata": {
        "id": "AtPIVq2zNYQ-"
      },
      "source": [
        "##Fit - Transform"
      ]
    },
    {
      "cell_type": "code",
      "metadata": {
        "id": "HbIUqK7eKcUh"
      },
      "source": [
        "data_fa = fa.fit_transform(FIFA_data_dropped)"
      ],
      "execution_count": 200,
      "outputs": []
    },
    {
      "cell_type": "code",
      "metadata": {
        "id": "m4Le55-yKlOi",
        "outputId": "70bcff11-6c39-403b-cce5-44f954a01f24",
        "colab": {
          "base_uri": "https://localhost:8080/"
        }
      },
      "source": [
        "data_fa.shape"
      ],
      "execution_count": 201,
      "outputs": [
        {
          "output_type": "execute_result",
          "data": {
            "text/plain": [
              "(128, 16)"
            ]
          },
          "metadata": {
            "tags": []
          },
          "execution_count": 201
        }
      ]
    },
    {
      "cell_type": "markdown",
      "metadata": {
        "id": "W9EuZ2AoNavV"
      },
      "source": [
        "##วิธีตัดสินว่าเราจะเหลือกี่ dimention (มี fectors ทั้งหมดกี่ตัว)"
      ]
    },
    {
      "cell_type": "code",
      "metadata": {
        "id": "CIEgrFXGLAaW"
      },
      "source": [
        "ev,v = fa.get_eigenvalues()"
      ],
      "execution_count": 202,
      "outputs": []
    },
    {
      "cell_type": "markdown",
      "metadata": {
        "id": "H3az-v-jNewD"
      },
      "source": [
        "##ใช้ eigen values"
      ]
    },
    {
      "cell_type": "code",
      "metadata": {
        "id": "lgIsKsb5LCqM",
        "outputId": "474a9a73-bd37-4881-90b7-c099e220d348",
        "colab": {
          "base_uri": "https://localhost:8080/"
        }
      },
      "source": [
        "ev"
      ],
      "execution_count": 203,
      "outputs": [
        {
          "output_type": "execute_result",
          "data": {
            "text/plain": [
              "array([4.93533676, 1.66110682, 1.45898601, 1.31857945, 1.27991548,\n",
              "       1.1607222 , 0.89822418, 0.80740568, 0.78874612, 0.65948826,\n",
              "       0.56563441, 0.48116939, 0.38549929, 0.29659929, 0.22859409,\n",
              "       0.06848785, 0.00550471])"
            ]
          },
          "metadata": {
            "tags": []
          },
          "execution_count": 203
        }
      ]
    },
    {
      "cell_type": "markdown",
      "metadata": {
        "id": "73VTE156NhJg"
      },
      "source": [
        "##Scree Plot"
      ]
    },
    {
      "cell_type": "code",
      "metadata": {
        "id": "ayIhrLHULFjN",
        "outputId": "23848a24-0722-4fa8-9de1-b59029369a12",
        "colab": {
          "base_uri": "https://localhost:8080/",
          "height": 893
        }
      },
      "source": [
        "# Create scree plot using matplotlib\n",
        "plt.plot(range(1,FIFA_data_dropped.shape[1]+1),ev,'y*-')\n",
        "plt.plot([0,FIFA_data_dropped.shape[1]+1],[1,1],'r--')\n",
        "plt.title('Scree Plot')\n",
        "plt.xlabel('Factors')\n",
        "plt.ylabel('Eigenvalue')\n",
        "plt.grid()\n",
        "plt.show()"
      ],
      "execution_count": 204,
      "outputs": [
        {
          "output_type": "display_data",
          "data": {
            "image/png": "[encoded data removed]",
            "text/plain": [
              "<Figure size 1080x1080 with 1 Axes>"
            ]
          },
          "metadata": {
            "tags": [],
            "needs_background": "light"
          }
        }
      ]
    },
    {
      "cell_type": "code",
      "metadata": {
        "id": "h0LDgdT5LWXF",
        "outputId": "c50f6223-06de-4e73-c71c-e7d28f87df7b",
        "colab": {
          "base_uri": "https://localhost:8080/"
        }
      },
      "source": [
        "data_fa[:,:6] #ดู 6 ตัวเพราะ มีค่ามากกว่า 1"
      ],
      "execution_count": 205,
      "outputs": [
        {
          "output_type": "execute_result",
          "data": {
            "text/plain": [
              "array([[-1.02852235e+00,  6.84121245e-01,  2.62286805e+00,\n",
              "        -6.13275893e-02, -5.44092674e-02,  2.00934276e-01],\n",
              "       [ 7.27448293e-01, -5.24186679e-01, -1.07869132e+00,\n",
              "        -8.50925779e-01, -2.41176630e-01,  2.50883401e-01],\n",
              "       [-6.45675050e-01,  1.82115619e-01, -5.69637077e-01,\n",
              "         2.26028940e-01,  3.37982843e-02, -1.68147976e-01],\n",
              "       [ 7.47704941e-01,  1.72940207e-01, -2.02499240e-01,\n",
              "        -1.29479087e+00, -1.29504953e-01, -5.66581441e-02],\n",
              "       [ 7.64590473e-01, -1.02338004e+00, -2.54183776e-01,\n",
              "         6.17252933e-01,  1.72354639e-01,  2.04944359e-01],\n",
              "       [-1.37927654e+00, -1.02367999e+00, -1.18075480e-01,\n",
              "         9.43416646e-01, -7.19004216e-01, -5.47973852e-01],\n",
              "       [-7.75361184e-01, -5.36622975e-01,  8.32824491e-01,\n",
              "        -2.23469488e-01,  1.60618514e-01, -8.09773397e-02],\n",
              "       [ 1.44271720e+00, -9.83264072e-02,  1.09942840e+00,\n",
              "        -5.21200358e-01, -4.13879311e-01,  9.66101100e-02],\n",
              "       [ 1.77079119e-01, -3.68717730e-01,  9.49939536e-01,\n",
              "         5.74285080e-02, -5.31285680e-02, -1.07712895e-01],\n",
              "       [-2.05204680e-01, -1.16076259e-01, -4.34660956e-02,\n",
              "         1.24885292e+00, -1.29606940e-01,  5.41460754e-02],\n",
              "       [ 2.02063253e+00, -4.78304897e-01, -6.49979980e-02,\n",
              "        -1.15971616e+00,  6.35985065e-01, -6.82332092e-02],\n",
              "       [-2.16202667e+00,  2.75663475e-01, -2.63195779e-01,\n",
              "        -6.02873239e-01, -6.00771251e-02, -1.39651813e-01],\n",
              "       [ 6.57259768e-03, -4.29535078e-01, -2.87461848e-01,\n",
              "        -4.70878292e-01, -5.54428834e-01,  2.72996177e-01],\n",
              "       [-4.14832680e-01,  1.02085871e-01,  1.15251932e-01,\n",
              "         5.28062710e-01,  1.40253040e-01,  5.59541600e-01],\n",
              "       [ 2.48824820e-01, -1.21418013e-01,  1.70688762e-02,\n",
              "         6.25511423e-01, -3.76106711e-01,  5.20675210e-02],\n",
              "       [-3.86646527e-01, -4.45728621e-01, -1.13771529e+00,\n",
              "         1.39773200e-02,  3.96366683e-01, -5.86362285e-02],\n",
              "       [-8.89307168e-02, -1.36922102e-01, -3.82827753e-01,\n",
              "         6.47014947e-01,  5.02310260e-01,  1.80608913e-01],\n",
              "       [-1.62597903e-01, -2.31723584e-02, -7.06194478e-02,\n",
              "         3.22507982e-01, -3.66638364e-01,  2.24228902e-01],\n",
              "       [ 9.74878398e-01,  2.00195540e-01,  2.05788787e-01,\n",
              "        -1.92876534e-01,  8.98287265e-02, -2.15863681e-01],\n",
              "       [-9.95866679e-01, -1.01868266e-01,  1.26176464e-01,\n",
              "         3.94891583e-01, -4.54767042e-01,  2.09126703e-01],\n",
              "       [ 3.44344940e-01, -1.51902424e-01, -6.34904841e-01,\n",
              "        -4.35476097e-01, -1.27948588e-01, -3.77314002e-01],\n",
              "       [-1.81937058e-01, -1.51893011e-02,  2.34259557e-02,\n",
              "         1.20781273e+00, -2.94793590e-01, -1.66360279e-01],\n",
              "       [ 2.21110645e-02, -4.34298567e-01, -3.12045800e-02,\n",
              "         2.89528229e-01,  2.58672629e-01,  3.28265072e-02],\n",
              "       [-4.56594981e-01, -3.32191868e-01, -8.61401901e-01,\n",
              "         1.00006400e+00,  6.75452832e-01,  2.92316623e-01],\n",
              "       [ 9.37018020e-01, -3.75921433e-01,  1.41214579e+00,\n",
              "         7.17029625e-01, -3.01005419e-01, -8.94855021e-02],\n",
              "       [-9.70088875e-01, -4.20185242e-01, -6.15500779e-01,\n",
              "         1.97111002e+00, -1.92014222e-01, -7.26038247e-02],\n",
              "       [-8.47833474e-01, -4.00926317e-01, -3.37238317e-01,\n",
              "        -4.35449498e-01,  3.35973264e-02,  3.72344057e-01],\n",
              "       [ 7.27290857e-01, -6.88909743e-01,  1.11128257e+00,\n",
              "        -6.11326541e-01, -5.29276419e-01, -3.61366272e-02],\n",
              "       [-7.72254348e-01, -1.14418309e+00, -5.56588571e-01,\n",
              "         5.62407427e-01,  3.76566174e+00, -4.00645798e-02],\n",
              "       [ 8.40432478e-01, -5.28829776e-01,  8.62289509e-01,\n",
              "        -6.70291088e-01, -6.56063424e-02, -3.19887100e-02],\n",
              "       [ 6.96842954e-01, -5.66934660e-02,  2.08382298e-01,\n",
              "        -5.60466630e-01, -7.49739142e-01,  9.52278180e-02],\n",
              "       [-7.39486158e-01, -1.56701000e-01,  1.32932846e-02,\n",
              "         3.24546190e-01, -1.48911717e-01,  1.14230189e-01],\n",
              "       [-4.95615097e-01,  2.70494652e-01,  3.30977471e-01,\n",
              "        -6.45325040e-01,  1.03127589e-01, -5.17763095e-01],\n",
              "       [ 6.90771097e-02, -1.29998360e-01, -1.16467881e+00,\n",
              "        -5.77408534e-01, -3.85020490e-01, -5.88304149e-01],\n",
              "       [-4.62671666e-01,  1.96428494e-01, -4.97222232e-01,\n",
              "         6.76304032e-03,  2.64340563e-01,  2.40691429e-01],\n",
              "       [ 6.48518491e-02,  4.15099446e-01, -4.52979177e-01,\n",
              "         4.51761595e-01, -5.43240395e-01, -1.46713299e-01],\n",
              "       [ 6.29240524e-02, -2.51621914e-01,  1.21759506e-02,\n",
              "        -7.82492313e-01, -4.02507575e-01, -1.03918323e-01],\n",
              "       [ 5.29306847e-01, -2.73255800e-01, -2.49018324e-01,\n",
              "        -5.07304493e-01,  3.56411235e-01,  4.83531508e-01],\n",
              "       [-1.94949726e+00,  2.09744511e-01, -1.47486327e+00,\n",
              "         2.20307680e-01, -3.35409063e-01, -3.34688658e-01],\n",
              "       [ 2.05454268e+00,  1.91245220e-01, -7.69510608e-01,\n",
              "        -8.03837038e-01,  4.80217694e-01,  1.11545100e-01],\n",
              "       [ 1.45157426e-02, -1.64899890e-01,  6.15353389e-01,\n",
              "        -6.80203388e-02, -4.42255670e-01, -1.90529086e-01],\n",
              "       [ 2.21588799e-01,  2.58218734e-01,  1.66158457e-01,\n",
              "        -1.30456431e+00,  1.67422158e-01, -8.63257967e-02],\n",
              "       [-5.68927587e-01, -1.12209555e-01, -2.48230600e-01,\n",
              "        -1.18132431e-01, -1.18352319e-01, -5.10428810e-01],\n",
              "       [ 4.80071451e-01, -2.24821657e-01, -9.36941825e-01,\n",
              "         3.02622960e-01, -6.12867502e-02, -4.68615357e-02],\n",
              "       [ 5.42968329e-01, -2.82414665e-01, -7.55670132e-01,\n",
              "         5.46799768e-01,  3.92226443e-01,  3.80788587e-01],\n",
              "       [-6.84424314e-01,  2.75823207e-01,  6.61834225e-01,\n",
              "         1.58208383e+00, -4.20512038e-01, -1.39667553e-01],\n",
              "       [ 1.69002986e+00,  1.40986394e-01,  1.04673781e+00,\n",
              "        -2.39024424e-01, -5.64272603e-02, -7.82621232e-02],\n",
              "       [-1.52472897e+00,  4.02279412e-01, -1.25034607e+00,\n",
              "        -4.31718276e-01, -3.24415800e-01,  2.89743685e-01],\n",
              "       [ 5.18453830e-01, -7.82826671e-01, -1.07742669e-01,\n",
              "        -7.86575764e-01,  3.70361424e-01, -1.03526750e-01],\n",
              "       [-1.01015027e+00, -3.74017195e-01, -5.46195585e-01,\n",
              "        -8.20808720e-01, -1.01866834e-01, -3.31323127e-01],\n",
              "       [-9.11226359e-01,  4.63247892e-01, -3.73362038e-01,\n",
              "         1.28220134e+00, -5.42753340e-01, -6.44734941e-01],\n",
              "       [ 7.32345027e-01,  3.46098468e-01,  3.18565325e-02,\n",
              "        -5.75812424e-01, -1.40307533e-01,  4.30779494e-02],\n",
              "       [ 1.85490328e-01, -3.50610707e-02,  3.21933488e+00,\n",
              "        -1.02127003e+00, -1.00346619e+00, -5.51590435e-02],\n",
              "       [-5.97410379e-02,  1.03310647e-01,  2.84503347e-01,\n",
              "        -4.40628963e-01, -3.34946247e-01,  2.38568595e-01],\n",
              "       [-7.86949587e-01, -4.91207516e-01,  2.24639518e-01,\n",
              "         1.86276527e+00,  1.88089883e+00, -8.05950042e-03],\n",
              "       [ 6.86336175e-01, -9.91103619e-01,  8.35450460e-01,\n",
              "        -1.21280720e+00, -6.10820437e-01,  2.48898708e-02],\n",
              "       [ 1.91970277e+00,  2.56657430e-01,  7.29823637e-02,\n",
              "        -1.82472671e+00, -5.25907694e-02,  5.80641631e+00],\n",
              "       [-1.88112498e+00,  1.46362105e-01,  9.24181540e-01,\n",
              "         3.11838940e-01,  1.37381956e-01,  1.01668232e-01],\n",
              "       [ 9.91311863e-01, -6.44263399e-01,  3.00652039e+00,\n",
              "        -2.44591968e-01, -5.92792355e-01,  1.93050857e-01],\n",
              "       [-5.00271883e-01, -1.28320795e+00, -3.28157383e-01,\n",
              "         8.07957865e-01, -4.11077165e-01, -5.60182780e-01],\n",
              "       [ 2.36396671e-01, -4.23042719e-01,  2.93278919e-01,\n",
              "        -3.47365700e-01, -1.16486444e-01,  2.42943399e-01],\n",
              "       [-5.60740655e-01, -4.76031396e-01,  9.61853586e-01,\n",
              "         5.86733799e-01, -4.44468929e-02, -8.13588617e-03],\n",
              "       [-4.53476888e-01, -3.07620756e-02, -8.86348955e-01,\n",
              "         3.48607963e-01,  9.19284276e-01, -7.76063894e-02],\n",
              "       [ 3.99634718e-01,  5.01218616e-02,  1.90508722e-01,\n",
              "        -1.19650374e+00, -3.09772943e-02, -9.84264072e-02],\n",
              "       [ 5.09945333e-01, -5.58414638e-01,  1.56682798e+00,\n",
              "         3.74642167e-02, -4.83725708e-01, -2.55551703e-01],\n",
              "       [-5.77813765e-01, -6.82172394e-01, -7.96106835e-01,\n",
              "        -4.17456303e-01, -3.84962456e-01,  5.31739917e+00],\n",
              "       [ 1.21728511e+00, -2.78509465e-01,  5.18548534e-01,\n",
              "        -1.30703349e+00, -6.89293033e-01, -4.66915554e-01],\n",
              "       [-8.82197181e-01,  1.01612831e-01, -6.11615142e-01,\n",
              "         5.09060341e-01, -4.25212021e-01,  1.03497951e-01],\n",
              "       [ 1.87883478e+00, -7.07809670e-02,  9.94819944e-02,\n",
              "        -1.48580094e+00, -1.24337532e+00, -4.01159518e-01],\n",
              "       [-1.51285403e+00, -1.93651297e-01,  4.40461571e-01,\n",
              "         2.42030932e+00, -1.71708109e-02, -6.41462718e-01],\n",
              "       [-1.79172703e+00, -5.48923397e-01, -7.59337621e-01,\n",
              "         3.04879307e-01, -1.20567458e-01, -4.02650662e-01],\n",
              "       [ 1.53486415e+00, -1.36739603e+00, -3.67493208e-01,\n",
              "         6.94330260e-01, -1.39622345e-01, -3.33025250e-01],\n",
              "       [-1.24082079e+00, -4.25317405e-02, -1.09544900e+00,\n",
              "        -5.47030497e-01,  6.47868659e-01,  5.53299911e-02],\n",
              "       [ 1.23780570e+00, -2.39732128e-01, -2.04109144e-01,\n",
              "        -7.43102181e-01, -5.38160932e-01, -3.63876954e-02],\n",
              "       [ 4.52572651e-01,  6.27856242e-02, -1.41235646e+00,\n",
              "         8.79863306e-01,  4.30392596e-01, -1.28501260e-01],\n",
              "       [-2.93648525e-01, -5.92660752e-01,  5.89151258e-01,\n",
              "         9.71634346e-02,  8.27726484e-02,  1.82416745e-02],\n",
              "       [-1.53951687e+00, -4.48243610e-01, -3.81258131e-02,\n",
              "         8.15522058e-01, -2.09323867e-01, -3.75508919e-01],\n",
              "       [ 1.19201294e+00, -5.66177571e-01,  6.65108924e-01,\n",
              "         5.51920465e-01, -1.18887952e-03,  2.82931947e-01],\n",
              "       [-9.96335166e-01, -1.66865119e-01, -1.85277029e-01,\n",
              "         8.27030494e-02,  2.98280137e-01, -7.27477920e-01],\n",
              "       [ 7.41749100e-01, -5.26641733e-01, -2.97614320e-01,\n",
              "        -6.58174093e-02, -3.13016042e-01, -2.44034161e-01],\n",
              "       [-1.81946747e+00,  8.97505916e-01,  6.31356234e-01,\n",
              "         1.15502760e+00, -1.52156708e-01, -4.63041389e-01],\n",
              "       [ 1.82532286e+00,  5.89718211e-01, -8.90001858e-01,\n",
              "        -1.45470967e+00,  5.07248164e-02, -1.31169224e-01],\n",
              "       [ 9.39921836e-01, -1.04090119e+00, -1.50982073e+00,\n",
              "         3.80709831e-01,  7.39377011e-01,  8.97394118e-03],\n",
              "       [-1.68827910e+00, -1.08889088e-01,  4.49065626e-01,\n",
              "        -3.70817989e-01, -6.57891091e-01, -8.39472913e-01],\n",
              "       [-4.14417528e-01,  8.16672739e-01, -1.49832070e+00,\n",
              "         4.31217330e-01,  4.39128765e-01, -5.15733513e-02],\n",
              "       [ 8.42106446e-01,  1.39960076e-02,  8.72529555e-01,\n",
              "        -1.26933661e+00,  5.49265578e-01,  5.33764848e-01],\n",
              "       [ 9.75195823e-01, -2.28623457e-01, -1.47453116e-01,\n",
              "        -1.36836606e-02,  2.51180941e-01, -1.16472295e-02],\n",
              "       [-8.42602710e-01, -3.48054136e-01,  7.87527861e-01,\n",
              "         7.08606685e-01, -1.78405834e-01, -5.43711700e-01],\n",
              "       [ 5.33349397e-01, -1.50398400e+00, -6.41303350e-01,\n",
              "        -3.10191749e-01,  7.20806847e-01,  1.04604484e-01],\n",
              "       [-1.92300031e-01, -1.55118280e+00, -7.75478109e-01,\n",
              "        -1.14786077e+00,  7.37187729e-01, -1.26182991e-01],\n",
              "       [-8.99875122e-01, -8.60522325e-01, -4.15931338e-01,\n",
              "         7.41571414e-02, -3.92737766e-01,  1.23762902e-01],\n",
              "       [ 3.35635020e-01, -8.07762629e-01,  1.24102030e-01,\n",
              "        -4.47286717e-02,  1.68863290e-01,  7.09661623e-01],\n",
              "       [-1.28798272e+00,  4.85332020e-02,  5.98611320e-02,\n",
              "         9.67382328e-01, -5.25848808e-01,  2.44780948e-01],\n",
              "       [ 1.26925911e+00,  1.80282926e-01,  1.25392279e+00,\n",
              "         8.53779068e-01,  2.18824066e-01,  3.00182559e-01],\n",
              "       [ 1.35749400e-02,  1.81761510e-01, -1.25553444e+00,\n",
              "        -7.68136021e-01,  4.58164960e-02,  2.64246537e-01],\n",
              "       [ 4.30151458e-01, -6.88214664e-02, -3.51403066e-01,\n",
              "         2.77246236e-01,  2.90798013e-01, -1.85359219e-01],\n",
              "       [-7.33148610e-01, -6.55978288e-01,  1.43242795e+00,\n",
              "         1.27103280e+00, -7.19179505e-01, -5.38961987e-01],\n",
              "       [ 8.02231373e-01, -8.36982515e-01,  6.54349342e-01,\n",
              "         1.33442305e+00,  4.94107203e-01, -1.97225587e-01],\n",
              "       [-1.31445247e+00, -3.28999975e-02,  2.99417729e-01,\n",
              "        -8.29430547e-01,  9.03972064e-02, -5.95341325e-02],\n",
              "       [ 9.15648836e-01,  3.61707507e-02, -4.04940382e-01,\n",
              "        -6.98363187e-01, -2.52421124e-01, -1.84334510e-01],\n",
              "       [ 3.14173948e+00,  2.87959737e+00,  1.60719046e-01,\n",
              "        -1.31976254e+00,  2.15116345e-01, -1.94897508e-01],\n",
              "       [-2.08170824e+00,  3.00896801e+00, -3.36497647e-01,\n",
              "         6.00652160e-01,  3.53582988e-01,  2.21480758e-01],\n",
              "       [ 5.65537336e-01,  1.93579327e+00, -1.28660721e-01,\n",
              "        -1.60618535e+00, -4.95892596e-01, -2.90257681e-01],\n",
              "       [-1.51690595e-01,  2.41494298e+00, -2.82037857e-01,\n",
              "         1.40878472e-01, -8.30991296e-01, -2.23289472e-01],\n",
              "       [-2.86489102e-01, -1.09305194e+00,  1.34553818e+00,\n",
              "        -5.49899008e-01, -3.30091973e-02, -6.72698262e-01],\n",
              "       [ 1.55352136e-01, -1.13659016e+00, -1.56643333e+00,\n",
              "         1.22556167e+00,  1.72497592e+00,  5.42380746e-01],\n",
              "       [ 7.96454545e-01,  4.61309568e-01,  1.20282274e+00,\n",
              "        -9.40683937e-01, -3.65527604e-02, -1.83134250e-01],\n",
              "       [-3.54646089e-01,  2.62899414e-01,  4.03135722e-01,\n",
              "        -6.79423946e-01,  1.91522410e-01,  3.28641589e-02],\n",
              "       [-1.35023849e+00, -2.85211148e-02, -6.28947677e-01,\n",
              "        -5.46927881e-01, -1.49772619e-01, -3.24157621e-01],\n",
              "       [ 1.07202078e+00, -5.24095072e-01, -1.41446939e+00,\n",
              "         6.23219037e-02,  4.50664463e+00, -2.99557921e-01],\n",
              "       [-9.70038408e-02,  2.24469166e+00, -3.10787803e-01,\n",
              "         2.49139732e+00, -6.48449552e-01, -6.84980454e-01],\n",
              "       [ 2.54509590e-01,  2.73833404e+00, -9.44633945e-01,\n",
              "        -1.34828680e-01, -7.86065650e-01, -2.43433438e-01],\n",
              "       [-1.05735308e+00, -8.76327595e-03, -6.36420001e-01,\n",
              "         3.47955776e-01, -4.78761095e-02, -5.59838521e-01],\n",
              "       [ 5.89143360e-01, -3.39675163e-01, -2.99024632e-01,\n",
              "         7.55949415e-02, -4.92397939e-01, -2.50872915e-01],\n",
              "       [ 7.42353014e-01, -1.84873794e-01,  4.75879561e-01,\n",
              "         9.69200171e-02,  7.30011011e-01, -1.31400349e-01],\n",
              "       [-6.02201128e-01, -2.20669868e-02,  5.65360554e-01,\n",
              "         3.51688767e-01,  2.30799943e-01,  2.88437484e-01],\n",
              "       [-7.44051588e-01, -1.22275179e-01, -7.23707447e-01,\n",
              "        -8.55889509e-03,  2.19079880e-02, -2.77129443e-01],\n",
              "       [ 5.05343000e-01,  8.78804209e-02, -6.41744842e-01,\n",
              "        -1.08916492e+00,  6.02777067e-01, -4.41364644e-02],\n",
              "       [-1.12941774e+00,  3.18433179e+00,  1.49090305e+00,\n",
              "         5.55703188e-01, -2.49809129e-01, -4.28281593e-02],\n",
              "       [ 1.32846646e+00,  2.97542306e+00, -3.69197007e-01,\n",
              "         8.28534161e-01, -7.61168365e-01, -3.86789943e-01],\n",
              "       [-7.82239914e-01, -4.96938035e-01, -4.55903877e-01,\n",
              "        -4.06252775e-01, -3.59640646e-01, -6.39946078e-01],\n",
              "       [ 1.08681990e+00, -3.46744672e-01, -2.18496224e-01,\n",
              "         9.87898071e-01,  2.28957555e-01,  1.97930569e-01],\n",
              "       [ 4.90103148e-01,  2.95514419e+00,  7.79743773e-01,\n",
              "         6.94336473e-01, -9.20608213e-01, -5.05587910e-01],\n",
              "       [-3.03809437e-01,  2.97739951e+00, -7.98317525e-01,\n",
              "        -3.90143899e-01, -7.92325516e-01,  2.24336439e-01],\n",
              "       [-1.90171707e-01,  1.78918691e-01,  3.87533391e-01,\n",
              "        -3.48430165e-01,  5.70201276e-01,  9.03903373e-02],\n",
              "       [ 1.10609582e+00,  2.07843065e-01, -3.16113885e-01,\n",
              "        -3.60607328e-01, -2.70365010e-01, -4.60466910e-01],\n",
              "       [-1.18322117e+00, -6.69964523e-01,  1.80070509e+00,\n",
              "         1.14737893e-01, -1.26794758e-02, -2.78941037e-01],\n",
              "       [ 8.44921413e-01, -3.80277447e-01, -2.54451875e-01,\n",
              "        -5.34511229e-01, -2.03015012e-01, -1.07487974e-01]])"
            ]
          },
          "metadata": {
            "tags": []
          },
          "execution_count": 205
        }
      ]
    },
    {
      "cell_type": "markdown",
      "metadata": {
        "id": "AVR1ZuLSNq8r"
      },
      "source": [
        "##รัน Factor Analysis อีกรอบ ด้วย pareeters จำนวน factor เท่ากับ 6"
      ]
    },
    {
      "cell_type": "code",
      "metadata": {
        "id": "mFUU-LMHLqum"
      },
      "source": [
        "from factor_analyzer import FactorAnalyzer\n",
        "fa2 = FactorAnalyzer(n_factors=6)\n",
        "data_fa = fa2.fit_transform(FIFA_data_dropped)"
      ],
      "execution_count": 206,
      "outputs": []
    },
    {
      "cell_type": "code",
      "metadata": {
        "id": "370kLJDQLv_N",
        "outputId": "3409810c-161a-4713-dbb6-27c4c92de53b",
        "colab": {
          "base_uri": "https://localhost:8080/"
        }
      },
      "source": [
        "fa2.loadings_.shape"
      ],
      "execution_count": 207,
      "outputs": [
        {
          "output_type": "execute_result",
          "data": {
            "text/plain": [
              "(17, 6)"
            ]
          },
          "metadata": {
            "tags": []
          },
          "execution_count": 207
        }
      ]
    },
    {
      "cell_type": "markdown",
      "metadata": {
        "id": "p1mT20ejNyvm"
      },
      "source": [
        "##Plot factor loadings"
      ]
    },
    {
      "cell_type": "code",
      "metadata": {
        "id": "GMjBdR_sLzDS"
      },
      "source": [
        "from matplotlib import pyplot as plt\n",
        "import numpy as np\n",
        "import matplotlib"
      ],
      "execution_count": 208,
      "outputs": []
    },
    {
      "cell_type": "markdown",
      "metadata": {
        "id": "FGrv0fzrN138"
      },
      "source": [
        "##matrix plot\n",
        "\n",
        "confirmatory"
      ]
    },
    {
      "cell_type": "code",
      "metadata": {
        "id": "-yxfLmLaL0Rt",
        "outputId": "f7401ffd-b9e2-4e3a-d1e1-9af6fee7649d",
        "colab": {
          "base_uri": "https://localhost:8080/",
          "height": 880
        }
      },
      "source": [
        "matplotlib.rcParams['figure.figsize']=[15,15]\n",
        "plt.imshow(np.absolute(fa2.loadings_)) "
      ],
      "execution_count": 209,
      "outputs": [
        {
          "output_type": "execute_result",
          "data": {
            "text/plain": [
              "<matplotlib.image.AxesImage at 0x7f838356de10>"
            ]
          },
          "metadata": {
            "tags": []
          },
          "execution_count": 209
        },
        {
          "output_type": "display_data",
          "data": {
            "image/png": "[encoded data removed]",
            "text/plain": [
              "<Figure size 1080x1080 with 1 Axes>"
            ]
          },
          "metadata": {
            "tags": [],
            "needs_background": "light"
          }
        }
      ]
    },
    {
      "cell_type": "markdown",
      "metadata": {
        "id": "kjy9CSCVN49R"
      },
      "source": [
        "##กราฟแท่ง\n",
        "\n",
        "Exploratory"
      ]
    },
    {
      "cell_type": "code",
      "metadata": {
        "id": "oBXhm7UBL7tV",
        "outputId": "811c82f6-87cb-49cd-a114-969372df868a",
        "colab": {
          "base_uri": "https://localhost:8080/"
        }
      },
      "source": [
        "FIFA_data_dropped.columns"
      ],
      "execution_count": 210,
      "outputs": [
        {
          "output_type": "execute_result",
          "data": {
            "text/plain": [
              "Index(['Goal Scored', 'Ball Possession %', 'Attempts', 'On-Target',\n",
              "       'Off-Target', 'Blocked', 'Corners', 'Offsides', 'Free Kicks', 'Saves',\n",
              "       'Pass Accuracy %', 'Passes', 'Distance Covered (Kms)',\n",
              "       'Fouls Committed', 'Yellow Card', 'Yellow & Red', 'Red'],\n",
              "      dtype='object')"
            ]
          },
          "metadata": {
            "tags": []
          },
          "execution_count": 210
        }
      ]
    },
    {
      "cell_type": "code",
      "metadata": {
        "id": "Fp6kIVTKMReK",
        "outputId": "e88c4eeb-0c96-46c8-c712-c42c882d6ba3",
        "colab": {
          "base_uri": "https://localhost:8080/",
          "height": 880
        }
      },
      "source": [
        "plt.bar(range(17),np.absolute(fa2.loadings_[:,0]),tick_label=FIFA_data_dropped.columns)\n"
      ],
      "execution_count": 213,
      "outputs": [
        {
          "output_type": "execute_result",
          "data": {
            "text/plain": [
              "<BarContainer object of 17 artists>"
            ]
          },
          "metadata": {
            "tags": []
          },
          "execution_count": 213
        },
        {
          "output_type": "display_data",
          "data": {
            "image/png": "[encoded data removed]",
            "text/plain": [
              "<Figure size 1080x1080 with 1 Axes>"
            ]
          },
          "metadata": {
            "tags": [],
            "needs_background": "light"
          }
        }
      ]
    }
  ]
}