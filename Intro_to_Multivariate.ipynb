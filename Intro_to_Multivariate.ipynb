{
  "nbformat": 4,
  "nbformat_minor": 0,
  "metadata": {
    "colab": {
      "name": "Intro to Multivariate.ipynb",
      "provenance": [],
      "authorship_tag": "ABX9TyNaE0ZzJVpSylC9OvGSUYpl",
      "include_colab_link": true
    },
    "kernelspec": {
      "name": "python3",
      "display_name": "Python 3"
    }
  },
  "cells": [
    {
      "cell_type": "markdown",
      "metadata": {
        "id": "view-in-github",
        "colab_type": "text"
      },
      "source": [
        "<a href=\"https://colab.research.google.com/github/wanichayaporn/Multivariate/blob/main/Intro_to_Multivariate.ipynb\" target=\"_parent\"><img src=\"https://colab.research.google.com/assets/colab-badge.svg\" alt=\"Open In Colab\"/></a>"
      ]
    },
    {
      "cell_type": "markdown",
      "metadata": {
        "id": "e8ibi8MikYNx"
      },
      "source": [
        "วณิชยาภรณ์ ป่าโพธิ์ชัน 623020533-1"
      ]
    },
    {
      "cell_type": "code",
      "metadata": {
        "colab": {
          "base_uri": "https://localhost:8080/"
        },
        "id": "AfrdBwsVkgkT",
        "outputId": "0503a24c-4776-4996-9147-804c0568bd5a"
      },
      "source": [
        "print(' วณิชยาภรณ์ ') #single quote ( ' ) ใช้ล้อมรอบข้อความ"
      ],
      "execution_count": 1,
      "outputs": [
        {
          "output_type": "stream",
          "text": [
            " วณิชยาภรณ์ \n"
          ],
          "name": "stdout"
        }
      ]
    }
  ]
}